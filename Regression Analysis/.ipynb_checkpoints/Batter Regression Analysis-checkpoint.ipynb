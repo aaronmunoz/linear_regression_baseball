{
 "cells": [
  {
   "cell_type": "code",
   "execution_count": 3310,
   "metadata": {},
   "outputs": [],
   "source": [
    "import pandas as pd\n",
    "import numpy as np\n",
    "import matplotlib.pyplot as plt\n",
    "import seaborn as sns\n",
    "sns.set()\n",
    "%matplotlib inline\n",
    "import statsmodels.api as sm\n",
    "import statsmodels.formula.api as smf\n",
    "from sklearn.model_selection import train_test_split, KFold, GridSearchCV\n",
    "from sklearn.preprocessing import StandardScaler, PolynomialFeatures\n",
    "from sklearn.linear_model import LinearRegression, Lasso, LassoCV, Ridge\n",
    "import scipy.stats as stats"
   ]
  },
  {
   "cell_type": "code",
   "execution_count": 3311,
   "metadata": {
    "collapsed": true
   },
   "outputs": [],
   "source": [
    "batters_df = pd.read_csv('../DEA Notebooks/cleaned_batting_years_1985_to_2017.csv')"
   ]
  },
  {
   "cell_type": "code",
   "execution_count": 3312,
   "metadata": {
    "collapsed": true
   },
   "outputs": [],
   "source": [
    "del batters_df['Unnamed: 0']"
   ]
  },
  {
   "cell_type": "code",
   "execution_count": 3313,
   "metadata": {},
   "outputs": [
    {
     "data": {
      "text/plain": [
       "Index(['ID', 'NAME', 'HEIGHT', 'WEIGHT', 'YEAR', 'AGE', 'TM', 'LG', 'G', 'PA',\n",
       "       'AB', 'R', 'H', '2B', '3B', 'HR', 'RBI', 'SB', 'CS', 'BB', 'SO', 'BA',\n",
       "       'OBP', 'SLG', 'OPS', 'OPS+', 'TB', 'GDP', 'HBP', 'SH', 'SF', 'IBB',\n",
       "       'AWARDS', 'SALARY', 'BATS_Left', 'BATS_Right', 'LG_SALARY_YEAR',\n",
       "       'LG_SALARY_MEAN', 'POS_1', 'POS_2', 'POS_3', 'POS_4', 'POS_5', 'POS_6',\n",
       "       'POS_7', 'POS_8', 'POS_9', 'POS_D', 'LG_MEAN_HR'],\n",
       "      dtype='object')"
      ]
     },
     "execution_count": 3313,
     "metadata": {},
     "output_type": "execute_result"
    }
   ],
   "source": [
    "batters_df.columns"
   ]
  },
  {
   "cell_type": "code",
   "execution_count": null,
   "metadata": {
    "collapsed": true
   },
   "outputs": [],
   "source": []
  },
  {
   "cell_type": "code",
   "execution_count": 3314,
   "metadata": {},
   "outputs": [],
   "source": [
    "\n",
    "\n",
    "f1 = ['AGE', 'LG_SALARY_MEAN', 'BB', 'H', 'R', '2B', 'HR']\n",
    "f2 = ['AGE', 'OBP', 'SLG', 'HR', 'LG_SALARY_MEAN']\n",
    "position_columns = ['POS_2', 'POS_3', 'POS_4', 'POS_5', 'POS_6',\n",
    "       'POS_7', 'POS_8', 'POS_9', 'POS_D']\n",
    "\n",
    "hr_f1 = ['WEIGHT', 'BB', 'H', 'R', '2B', '3B', 'RBI', 'BA', 'SO', 'SB']\n",
    "hr_f2 = ['AGE', 'WEIGHT', 'OPS', 'R', 'OBP', 'SO']\n",
    "\n",
    "hr_f3_no_hr_hints = ['BB', 'SO', 'SB', 'WEIGHT', '2B', '3B']"
   ]
  },
  {
   "cell_type": "code",
   "execution_count": 3315,
   "metadata": {},
   "outputs": [
    {
     "data": {
      "text/plain": [
       "(6340, 49)"
      ]
     },
     "execution_count": 3315,
     "metadata": {},
     "output_type": "execute_result"
    }
   ],
   "source": [
    "subset_to_test_with = batters_df[(batters_df.PA >= 400) & (batters_df.YEAR != 1994)]\n",
    "\n",
    "#y_value_to_test = subset_to_test_with['HR']\n",
    "y_value_to_test = np.log(subset_to_test_with['SALARY'])\n",
    "\n",
    "subset_to_test_with.shape"
   ]
  },
  {
   "cell_type": "code",
   "execution_count": 3316,
   "metadata": {},
   "outputs": [],
   "source": [
    "\n",
    "\n",
    "y = np.asarray(y_value_to_test)\n",
    "features_to_test = f2 \n",
    "X = np.asarray(subset_to_test_with[features_to_test])\n",
    "\n",
    "X, X_test, y, y_test = train_test_split(X, y, test_size=.2, random_state=10)\n"
   ]
  },
  {
   "cell_type": "code",
   "execution_count": 3317,
   "metadata": {},
   "outputs": [],
   "source": [
    "kf = KFold(n_splits=5, shuffle=True, random_state = 0)\n",
    "lr = Lasso(alpha=0.0001)#LinearRegression()\n",
    "\n",
    "train_scores = []\n",
    "train_errors = []\n",
    "coefs = []\n",
    "for train_ind, val_ind in kf.split(X,y):\n",
    "        X_train, y_train = X[train_ind], y[train_ind]\n",
    "        X_val, y_val = X[val_ind], y[val_ind] \n",
    "        \n",
    "        #print(np.argwhere(np.isnan(X_train)))\n",
    "        scaler = StandardScaler()\n",
    "        X_train_scaled = scaler.fit_transform(X_train)\n",
    "        X_val_scaled = scaler.transform(X_val)\n",
    "        lr.fit(X_train_scaled, y_train)\n",
    "        \n",
    "        valid_set_pred = lr.predict(X_val_scaled)\n",
    "        train_scores.append(lr.score(X_val_scaled, y_val))\n",
    "        train_errors.append(np.sqrt(np.mean((valid_set_pred - y_val)**2)))\n",
    "        coefs.append(list(zip(features_to_test, lr.coef_)))\n",
    "        "
   ]
  },
  {
   "cell_type": "code",
   "execution_count": 3318,
   "metadata": {},
   "outputs": [
    {
     "data": {
      "text/plain": [
       "0.59856538047965113"
      ]
     },
     "execution_count": 3318,
     "metadata": {},
     "output_type": "execute_result"
    }
   ],
   "source": [
    "np.mean(train_scores)"
   ]
  },
  {
   "cell_type": "code",
   "execution_count": 3319,
   "metadata": {},
   "outputs": [
    {
     "data": {
      "text/plain": [
       "[[('AGE', 0.76368797260248411),\n",
       "  ('LG_SALARY_MEAN', 0.62742034520029288),\n",
       "  ('BB', 0.11554335013636134),\n",
       "  ('H', 0.23504863137561524),\n",
       "  ('R', -0.0016822265024668038),\n",
       "  ('2B', -0.045425812468821471),\n",
       "  ('HR', 0.2047592796248961)],\n",
       " [('AGE', 0.78193657686269447),\n",
       "  ('LG_SALARY_MEAN', 0.63181898308000961),\n",
       "  ('BB', 0.12172221848933999),\n",
       "  ('H', 0.25266913657437196),\n",
       "  ('R', -0.035387102027158411),\n",
       "  ('2B', -0.039597769326100152),\n",
       "  ('HR', 0.2105070075981843)],\n",
       " [('AGE', 0.76954562547999716),\n",
       "  ('LG_SALARY_MEAN', 0.63233927018790892),\n",
       "  ('BB', 0.13257848949463899),\n",
       "  ('H', 0.24220035898295772),\n",
       "  ('R', -0.029105468246896676),\n",
       "  ('2B', -0.047727621817828858),\n",
       "  ('HR', 0.21717314139573535)],\n",
       " [('AGE', 0.76383962930799543),\n",
       "  ('LG_SALARY_MEAN', 0.63294124315642686),\n",
       "  ('BB', 0.12873459791798075),\n",
       "  ('H', 0.24907655943542653),\n",
       "  ('R', -0.026255954441522913),\n",
       "  ('2B', -0.039049376747448038),\n",
       "  ('HR', 0.20361463883765291)],\n",
       " [('AGE', 0.77171410578570532),\n",
       "  ('LG_SALARY_MEAN', 0.61764982861820916),\n",
       "  ('BB', 0.14015219572306764),\n",
       "  ('H', 0.24803873227257722),\n",
       "  ('R', -0.019004806033925899),\n",
       "  ('2B', -0.038083487213796056),\n",
       "  ('HR', 0.20559414159522277)]]"
      ]
     },
     "execution_count": 3319,
     "metadata": {},
     "output_type": "execute_result"
    }
   ],
   "source": [
    "coefs"
   ]
  },
  {
   "cell_type": "code",
   "execution_count": 3320,
   "metadata": {},
   "outputs": [
    {
     "name": "stderr",
     "output_type": "stream",
     "text": [
      "/Users/Munoz/anaconda3/lib/python3.6/site-packages/sklearn/linear_model/coordinate_descent.py:491: ConvergenceWarning: Objective did not converge. You might want to increase the number of iterations. Fitting data with very small alpha may cause precision problems.\n",
      "  ConvergenceWarning)\n"
     ]
    }
   ],
   "source": [
    "lr = Lasso(alpha=0.00001)#LinearRegression()\n",
    "train_scores = []\n",
    "train_errors = []\n",
    "coefs = []\n",
    "for train_ind, val_ind in kf.split(X,y):\n",
    "        X_train, y_train = X[train_ind], y[train_ind]\n",
    "        X_val, y_val = X[val_ind], y[val_ind] \n",
    "        \n",
    "        poly = PolynomialFeatures(degree=2) \n",
    "\n",
    "        X_train_poly = poly.fit_transform(X_train)\n",
    "        X_val_poly = poly.transform(X_val)\n",
    "        \n",
    "        lr.fit(X_train_poly, y_train)\n",
    "        \n",
    "        valid_set_pred = lr.predict(X_val_poly)\n",
    "        train_scores.append(lr.score(X_val_poly, y_val))\n",
    "        train_errors.append(np.sqrt(np.mean((valid_set_pred - y_val)**2)))\n",
    "        coefs.append(list(zip(features_to_test, lr.coef_)))\n",
    "        \n",
    "        "
   ]
  },
  {
   "cell_type": "code",
   "execution_count": 3321,
   "metadata": {
    "scrolled": true
   },
   "outputs": [
    {
     "data": {
      "text/plain": [
       "0.65128313821464601"
      ]
     },
     "execution_count": 3321,
     "metadata": {},
     "output_type": "execute_result"
    }
   ],
   "source": [
    "np.mean(train_scores)"
   ]
  },
  {
   "cell_type": "code",
   "execution_count": 3322,
   "metadata": {},
   "outputs": [
    {
     "data": {
      "text/plain": [
       "[[('AGE', 0.0),\n",
       "  ('LG_SALARY_MEAN', 0.62875279479494028),\n",
       "  ('BB', -0.74121467905804417),\n",
       "  ('H', 0.0087479759538890822),\n",
       "  ('R', 0.00030680966762477307),\n",
       "  ('2B', -0.0011473060450756158),\n",
       "  ('HR', -0.057476028642758956)],\n",
       " [('AGE', 0.0),\n",
       "  ('LG_SALARY_MEAN', 0.6650089610816059),\n",
       "  ('BB', -0.51135398848512315),\n",
       "  ('H', 0.011508669309408756),\n",
       "  ('R', -0.00065840195774432815),\n",
       "  ('2B', 0.0039917240641578885),\n",
       "  ('HR', -0.082545158223705867)],\n",
       " [('AGE', 0.0),\n",
       "  ('LG_SALARY_MEAN', 0.65666806710812331),\n",
       "  ('BB', -0.46625881512715622),\n",
       "  ('H', 0.0073943965018659196),\n",
       "  ('R', 0.0016341871647725663),\n",
       "  ('2B', 0.0093412404357110183),\n",
       "  ('HR', -0.038479025317988601)],\n",
       " [('AGE', 0.0),\n",
       "  ('LG_SALARY_MEAN', 0.63680134752264805),\n",
       "  ('BB', -0.53550520656106138),\n",
       "  ('H', 0.013723241089366399),\n",
       "  ('R', 0.002445849076666463),\n",
       "  ('2B', 0.0086340455955295926),\n",
       "  ('HR', -0.052630459420577806)],\n",
       " [('AGE', 0.0),\n",
       "  ('LG_SALARY_MEAN', 0.61241253952391239),\n",
       "  ('BB', -0.59411922503726811),\n",
       "  ('H', 0.009587917960502625),\n",
       "  ('R', -0.0013643711784113344),\n",
       "  ('2B', 0.0028948119626131101),\n",
       "  ('HR', -0.066720030365843216)]]"
      ]
     },
     "execution_count": 3322,
     "metadata": {},
     "output_type": "execute_result"
    }
   ],
   "source": [
    "coefs"
   ]
  },
  {
   "cell_type": "code",
   "execution_count": 3323,
   "metadata": {
    "collapsed": true,
    "scrolled": true
   },
   "outputs": [],
   "source": [
    "def diagnostic_plot(x, y):\n",
    "    plt.figure(figsize=(20,5))\n",
    "    s = len(y)\n",
    "    rgr = LinearRegression()\n",
    "    rgr.fit(x,y)\n",
    "    pred = rgr.predict(x)\n",
    "    \n",
    "    plt.subplot(1, 3, 2)\n",
    "    res = y - pred\n",
    "    plt.scatter(pred, res)\n",
    "    plt.title(\"Residual plot\")\n",
    "    plt.xlabel(\"prediction\")\n",
    "    plt.ylabel(\"residuals\")\n",
    "    \n",
    "    plt.subplot(1, 3, 3)\n",
    "    #Generates a probability plot of sample data against the quantiles of a \n",
    "    # specified theoretical distribution \n",
    "    stats.probplot(res, dist=\"norm\", plot=plt)\n",
    "    plt.title(\"Normal Q-Q plot\")\n",
    "    "
   ]
  },
  {
   "cell_type": "code",
   "execution_count": 3324,
   "metadata": {},
   "outputs": [
    {
     "data": {
      "image/png": "[encoded data removed]",
      "text/plain": [
       "<matplotlib.figure.Figure at 0x1c29f39320>"
      ]
     },
     "metadata": {},
     "output_type": "display_data"
    }
   ],
   "source": [
    "poly = PolynomialFeatures(degree=2) \n",
    "\n",
    "X_train_poly = poly.fit_transform(X)\n",
    "#lr = LinearRegression()\n",
    "#lr.fit(X_train_poly, y)\n",
    "#y_pres = lr.predict()\n",
    "diagnostic_plot(X_train_poly, y)"
   ]
  },
  {
   "cell_type": "code",
   "execution_count": 3325,
   "metadata": {},
   "outputs": [
    {
     "data": {
      "text/html": [
       "<table class=\"simpletable\">\n",
       "<caption>OLS Regression Results</caption>\n",
       "<tr>\n",
       "  <th>Dep. Variable:</th>            <td>y</td>        <th>  R-squared:         </th> <td>   0.601</td> \n",
       "</tr>\n",
       "<tr>\n",
       "  <th>Model:</th>                   <td>OLS</td>       <th>  Adj. R-squared:    </th> <td>   0.600</td> \n",
       "</tr>\n",
       "<tr>\n",
       "  <th>Method:</th>             <td>Least Squares</td>  <th>  F-statistic:       </th> <td>   1089.</td> \n",
       "</tr>\n",
       "<tr>\n",
       "  <th>Date:</th>             <td>Thu, 01 Feb 2018</td> <th>  Prob (F-statistic):</th>  <td>  0.00</td>  \n",
       "</tr>\n",
       "<tr>\n",
       "  <th>Time:</th>                 <td>20:09:19</td>     <th>  Log-Likelihood:    </th> <td> -6632.2</td> \n",
       "</tr>\n",
       "<tr>\n",
       "  <th>No. Observations:</th>      <td>  5072</td>      <th>  AIC:               </th> <td>1.328e+04</td>\n",
       "</tr>\n",
       "<tr>\n",
       "  <th>Df Residuals:</th>          <td>  5064</td>      <th>  BIC:               </th> <td>1.333e+04</td>\n",
       "</tr>\n",
       "<tr>\n",
       "  <th>Df Model:</th>              <td>     7</td>      <th>                     </th>     <td> </td>    \n",
       "</tr>\n",
       "<tr>\n",
       "  <th>Covariance Type:</th>      <td>nonrobust</td>    <th>                     </th>     <td> </td>    \n",
       "</tr>\n",
       "</table>\n",
       "<table class=\"simpletable\">\n",
       "<tr>\n",
       "         <td></td>           <th>coef</th>     <th>std err</th>      <th>t</th>      <th>P>|t|</th>  <th>[0.025</th>    <th>0.975]</th>  \n",
       "</tr>\n",
       "<tr>\n",
       "  <th>AGE</th>            <td>   -4.4827</td> <td>    0.260</td> <td>  -17.243</td> <td> 0.000</td> <td>   -4.992</td> <td>   -3.973</td>\n",
       "</tr>\n",
       "<tr>\n",
       "  <th>LG_SALARY_MEAN</th> <td>    0.1950</td> <td>    0.003</td> <td>   59.781</td> <td> 0.000</td> <td>    0.189</td> <td>    0.201</td>\n",
       "</tr>\n",
       "<tr>\n",
       "  <th>BB</th>             <td>    0.7998</td> <td>    0.016</td> <td>   48.514</td> <td> 0.000</td> <td>    0.768</td> <td>    0.832</td>\n",
       "</tr>\n",
       "<tr>\n",
       "  <th>H</th>              <td>    0.0057</td> <td>    0.001</td> <td>    7.541</td> <td> 0.000</td> <td>    0.004</td> <td>    0.007</td>\n",
       "</tr>\n",
       "<tr>\n",
       "  <th>R</th>              <td>    0.0082</td> <td>    0.001</td> <td>    9.841</td> <td> 0.000</td> <td>    0.007</td> <td>    0.010</td>\n",
       "</tr>\n",
       "<tr>\n",
       "  <th>2B</th>             <td>   -0.0011</td> <td>    0.001</td> <td>   -0.846</td> <td> 0.398</td> <td>   -0.004</td> <td>    0.001</td>\n",
       "</tr>\n",
       "<tr>\n",
       "  <th>HR</th>             <td>   -0.0050</td> <td>    0.002</td> <td>   -2.331</td> <td> 0.020</td> <td>   -0.009</td> <td>   -0.001</td>\n",
       "</tr>\n",
       "</table>\n",
       "<table class=\"simpletable\">\n",
       "<tr>\n",
       "  <th>Omnibus:</th>       <td>74.631</td> <th>  Durbin-Watson:     </th> <td>   2.038</td>\n",
       "</tr>\n",
       "<tr>\n",
       "  <th>Prob(Omnibus):</th> <td> 0.000</td> <th>  Jarque-Bera (JB):  </th> <td>  65.523</td>\n",
       "</tr>\n",
       "<tr>\n",
       "  <th>Skew:</th>          <td>-0.224</td> <th>  Prob(JB):          </th> <td>5.91e-15</td>\n",
       "</tr>\n",
       "<tr>\n",
       "  <th>Kurtosis:</th>      <td> 2.669</td> <th>  Cond. No.          </th> <td>3.62e+03</td>\n",
       "</tr>\n",
       "</table>"
      ],
      "text/plain": [
       "<class 'statsmodels.iolib.summary.Summary'>\n",
       "\"\"\"\n",
       "                            OLS Regression Results                            \n",
       "==============================================================================\n",
       "Dep. Variable:                      y   R-squared:                       0.601\n",
       "Model:                            OLS   Adj. R-squared:                  0.600\n",
       "Method:                 Least Squares   F-statistic:                     1089.\n",
       "Date:                Thu, 01 Feb 2018   Prob (F-statistic):               0.00\n",
       "Time:                        20:09:19   Log-Likelihood:                -6632.2\n",
       "No. Observations:                5072   AIC:                         1.328e+04\n",
       "Df Residuals:                    5064   BIC:                         1.333e+04\n",
       "Df Model:                           7                                         \n",
       "Covariance Type:            nonrobust                                         \n",
       "==================================================================================\n",
       "                     coef    std err          t      P>|t|      [0.025      0.975]\n",
       "----------------------------------------------------------------------------------\n",
       "AGE               -4.4827      0.260    -17.243      0.000      -4.992      -3.973\n",
       "LG_SALARY_MEAN     0.1950      0.003     59.781      0.000       0.189       0.201\n",
       "BB                 0.7998      0.016     48.514      0.000       0.768       0.832\n",
       "H                  0.0057      0.001      7.541      0.000       0.004       0.007\n",
       "R                  0.0082      0.001      9.841      0.000       0.007       0.010\n",
       "2B                -0.0011      0.001     -0.846      0.398      -0.004       0.001\n",
       "HR                -0.0050      0.002     -2.331      0.020      -0.009      -0.001\n",
       "==============================================================================\n",
       "Omnibus:                       74.631   Durbin-Watson:                   2.038\n",
       "Prob(Omnibus):                  0.000   Jarque-Bera (JB):               65.523\n",
       "Skew:                          -0.224   Prob(JB):                     5.91e-15\n",
       "Kurtosis:                       2.669   Cond. No.                     3.62e+03\n",
       "==============================================================================\n",
       "\n",
       "Warnings:\n",
       "[1] Standard Errors assume that the covariance matrix of the errors is correctly specified.\n",
       "[2] The condition number is large, 3.62e+03. This might indicate that there are\n",
       "strong multicollinearity or other numerical problems.\n",
       "\"\"\""
      ]
     },
     "execution_count": 3325,
     "metadata": {},
     "output_type": "execute_result"
    }
   ],
   "source": [
    "model = sm.OLS(y,sm.add_constant(X))\n",
    "model.data.xnames = features_to_test\n",
    "fit = model.fit()\n",
    "fit.summary()"
   ]
  },
  {
   "cell_type": "code",
   "execution_count": 3326,
   "metadata": {},
   "outputs": [],
   "source": [
    "def find_alpha():\n",
    "    #X2, X2_test, y2, y2_test = train_test_split(X, y, test_size=.2, random_state=10)\n",
    "    params = {\n",
    "        \"alpha\": np.logspace(-4, -.1, 20)\n",
    "    }\n",
    "\n",
    "    grid_est = GridSearchCV(Lasso(), param_grid=params, cv=5)\n",
    "    grid_est.fit(X, y)\n",
    "    df = pd.DataFrame(grid_est.grid_scores_)\n",
    "    df[\"alpha\"] = df.parameters.apply(lambda val: val[\"alpha\"])\n",
    "    plt.plot(np.log(df.alpha), df.mean_validation_score);\n",
    "    return grid_est.grid_scores_"
   ]
  },
  {
   "cell_type": "code",
   "execution_count": 3327,
   "metadata": {},
   "outputs": [
    {
     "name": "stderr",
     "output_type": "stream",
     "text": [
      "/Users/Munoz/anaconda3/lib/python3.6/site-packages/sklearn/model_selection/_search.py:761: DeprecationWarning: The grid_scores_ attribute was deprecated in version 0.18 in favor of the more elaborate cv_results_ attribute. The grid_scores_ attribute will not be available from 0.20\n",
      "  DeprecationWarning)\n",
      "/Users/Munoz/anaconda3/lib/python3.6/site-packages/sklearn/model_selection/_search.py:761: DeprecationWarning: The grid_scores_ attribute was deprecated in version 0.18 in favor of the more elaborate cv_results_ attribute. The grid_scores_ attribute will not be available from 0.20\n",
      "  DeprecationWarning)\n"
     ]
    },
    {
     "data": {
      "text/plain": [
       "[mean: 0.59853, std: 0.02961, params: {'alpha': 0.0001},\n",
       " mean: 0.59853, std: 0.02961, params: {'alpha': 0.00016042171611153241},\n",
       " mean: 0.59853, std: 0.02961, params: {'alpha': 0.00025735127000169099},\n",
       " mean: 0.59853, std: 0.02960, params: {'alpha': 0.00041284732377153599},\n",
       " mean: 0.59853, std: 0.02960, params: {'alpha': 0.00066229676171483253},\n",
       " mean: 0.59853, std: 0.02959, params: {'alpha': 0.001062467830894041},\n",
       " mean: 0.59853, std: 0.02957, params: {'alpha': 0.0017044291274531946},\n",
       " mean: 0.59852, std: 0.02954, params: {'alpha': 0.0027342744561652328},\n",
       " mean: 0.59851, std: 0.02950, params: {'alpha': 0.0043863700057795363},\n",
       " mean: 0.59849, std: 0.02942, params: {'alpha': 0.0070366900382730557},\n",
       " mean: 0.59841, std: 0.02930, params: {'alpha': 0.011288378916846895},\n",
       " mean: 0.59823, std: 0.02911, params: {'alpha': 0.018109011179578204},\n",
       " mean: 0.59776, std: 0.02878, params: {'alpha': 0.029050786505108613},\n",
       " mean: 0.59656, std: 0.02828, params: {'alpha': 0.04660377025539271},\n",
       " mean: 0.59369, std: 0.02764, params: {'alpha': 0.074762568016376874},\n",
       " mean: 0.58638, std: 0.02683, params: {'alpha': 0.11993539462092344},\n",
       " mean: 0.56736, std: 0.02573, params: {'alpha': 0.19240241827602392},\n",
       " mean: 0.51788, std: 0.02383, params: {'alpha': 0.30865526123848624},\n",
       " mean: 0.40170, std: 0.02321, params: {'alpha': 0.49515006694731312},\n",
       " mean: 0.38615, std: 0.01972, params: {'alpha': 0.79432823472428149}]"
      ]
     },
     "execution_count": 3327,
     "metadata": {},
     "output_type": "execute_result"
    },
    {
     "data": {
      "image/png": "[encoded data removed]",
      "text/plain": [
       "<matplotlib.figure.Figure at 0x1c20c9abe0>"
      ]
     },
     "metadata": {},
     "output_type": "display_data"
    }
   ],
   "source": [
    "find_alpha()"
   ]
  },
  {
   "cell_type": "code",
   "execution_count": 3328,
   "metadata": {},
   "outputs": [
    {
     "data": {
      "text/plain": [
       "0.95329602152615422"
      ]
     },
     "execution_count": 3328,
     "metadata": {},
     "output_type": "execute_result"
    }
   ],
   "source": [
    "from sklearn.ensemble import RandomForestRegressor\n",
    "\n",
    "rf = RandomForestRegressor(n_estimators=1800, max_features=3)\n",
    "rf.fit(X_train, y_train)\n",
    "rf.score(X_train, y_train)"
   ]
  },
  {
   "cell_type": "code",
   "execution_count": 3329,
   "metadata": {},
   "outputs": [
    {
     "data": {
      "text/plain": [
       "0.64850008132533521"
      ]
     },
     "execution_count": 3329,
     "metadata": {},
     "output_type": "execute_result"
    }
   ],
   "source": [
    "lr = LinearRegression()\n",
    "    \n",
    "poly = PolynomialFeatures(degree=2) \n",
    "\n",
    "X_poly = poly.fit_transform(X)\n",
    "X_test_poly = poly.transform(X_test)\n",
    "\n",
    "lr.fit(X_poly, y)\n",
    "\n",
    "test_pred_y = lr.predict(X_test_poly)\n",
    "\n",
    "lr.score(X_test_poly, y_test)"
   ]
  },
  {
   "cell_type": "code",
   "execution_count": 3330,
   "metadata": {},
   "outputs": [
    {
     "data": {
      "text/plain": [
       "[('AGE', 5.9926061788329371e-13),\n",
       " ('LG_SALARY_MEAN', 0.73453239895049516),\n",
       " ('BB', -2.0334699754493926),\n",
       " ('H', 0.0051838864714177698),\n",
       " ('R', -0.0034051725345498273),\n",
       " ('2B', 0.027850475245822404),\n",
       " ('HR', -0.079472661357006869)]"
      ]
     },
     "execution_count": 3330,
     "metadata": {},
     "output_type": "execute_result"
    }
   ],
   "source": [
    "list(zip(features_to_test, lr.coef_))"
   ]
  },
  {
   "cell_type": "code",
   "execution_count": null,
   "metadata": {
    "collapsed": true
   },
   "outputs": [],
   "source": []
  }
 ],
 "metadata": {
  "kernelspec": {
   "display_name": "Python 3",
   "language": "python",
   "name": "python3"
  },
  "language_info": {
   "codemirror_mode": {
    "name": "ipython",
    "version": 3
   },
   "file_extension": ".py",
   "mimetype": "text/x-python",
   "name": "python",
   "nbconvert_exporter": "python",
   "pygments_lexer": "ipython3",
   "version": "3.6.3"
  }
 },
 "nbformat": 4,
 "nbformat_minor": 2
}
