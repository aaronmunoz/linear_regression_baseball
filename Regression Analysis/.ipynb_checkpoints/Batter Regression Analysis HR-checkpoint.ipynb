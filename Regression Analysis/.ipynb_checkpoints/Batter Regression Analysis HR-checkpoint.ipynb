{
 "cells": [
  {
   "cell_type": "code",
   "execution_count": 3025,
   "metadata": {},
   "outputs": [],
   "source": [
    "import pandas as pd\n",
    "import numpy as np\n",
    "import matplotlib.pyplot as plt\n",
    "import seaborn as sns\n",
    "sns.set()\n",
    "%matplotlib inline\n",
    "import statsmodels.api as sm\n",
    "import statsmodels.formula.api as smf\n",
    "from sklearn.model_selection import train_test_split, KFold, GridSearchCV\n",
    "from sklearn.preprocessing import StandardScaler, PolynomialFeatures\n",
    "from sklearn.linear_model import LinearRegression, Lasso, LassoCV, Ridge\n",
    "import scipy.stats as stats"
   ]
  },
  {
   "cell_type": "code",
   "execution_count": 3026,
   "metadata": {
    "collapsed": true
   },
   "outputs": [],
   "source": [
    "batters_df = pd.read_csv('../DEA Notebooks/cleaned_batting_years_1985_to_2017.csv')"
   ]
  },
  {
   "cell_type": "code",
   "execution_count": 3027,
   "metadata": {
    "collapsed": true
   },
   "outputs": [],
   "source": [
    "del batters_df['Unnamed: 0']"
   ]
  },
  {
   "cell_type": "code",
   "execution_count": 3028,
   "metadata": {},
   "outputs": [
    {
     "data": {
      "text/plain": [
       "Index(['ID', 'NAME', 'HEIGHT', 'WEIGHT', 'YEAR', 'AGE', 'TM', 'LG', 'G', 'PA',\n",
       "       'AB', 'R', 'H', '2B', '3B', 'HR', 'RBI', 'SB', 'CS', 'BB', 'SO', 'BA',\n",
       "       'OBP', 'SLG', 'OPS', 'OPS+', 'TB', 'GDP', 'HBP', 'SH', 'SF', 'IBB',\n",
       "       'AWARDS', 'SALARY', 'BATS_Left', 'BATS_Right', 'LG_SALARY_YEAR',\n",
       "       'LG_SALARY_MEAN', 'POS_1', 'POS_2', 'POS_3', 'POS_4', 'POS_5', 'POS_6',\n",
       "       'POS_7', 'POS_8', 'POS_9', 'POS_D', 'LG_MEAN_HR'],\n",
       "      dtype='object')"
      ]
     },
     "execution_count": 3028,
     "metadata": {},
     "output_type": "execute_result"
    }
   ],
   "source": [
    "batters_df.columns"
   ]
  },
  {
   "cell_type": "code",
   "execution_count": null,
   "metadata": {
    "collapsed": true
   },
   "outputs": [],
   "source": []
  },
  {
   "cell_type": "code",
   "execution_count": 3029,
   "metadata": {},
   "outputs": [],
   "source": [
    "\n",
    "\n",
    "f1 = ['AGE', 'PA',\n",
    "       'R', 'H', '2B', 'HR', 'RBI', 'BB', 'SO', 'BA',\n",
    "       'OBP', 'SLG', 'OPS', \n",
    "       'LG_SALARY_YEAR']\n",
    "f2 = ['AGE', 'LG_SALARY_MEAN', 'BB', 'H', 'R', '2B', 'HR', 'RBI', 'PA', 'TB']\n",
    "f3 = ['AGE', 'OBP', 'SLG', 'HR', 'LG_SALARY_MEAN', 'RBI']\n",
    "position_columns = ['POS_2', 'POS_3', 'POS_4', 'POS_5', 'POS_6',\n",
    "       'POS_7', 'POS_8', 'POS_9', 'POS_D']\n",
    "\n",
    "hr_f1 = ['WEIGHT', 'BB', 'H', 'R', '2B', '3B', 'RBI', 'BA', 'SO', 'SB']\n",
    "hr_f2 = ['AGE', 'WEIGHT', 'OPS', 'R', 'OBP', 'SO']\n",
    "\n",
    "hr_f3_no_hr_hints = ['BB', 'SO', 'SB', 'WEIGHT', '2B', '3B']"
   ]
  },
  {
   "cell_type": "code",
   "execution_count": 3030,
   "metadata": {},
   "outputs": [
    {
     "data": {
      "text/plain": [
       "(6340, 49)"
      ]
     },
     "execution_count": 3030,
     "metadata": {},
     "output_type": "execute_result"
    }
   ],
   "source": [
    "subset_to_test_with = batters_df[(batters_df.PA >= 400) & (batters_df.YEAR != 1994)]\n",
    "\n",
    "y_value_to_test = subset_to_test_with['HR']\n",
    "#y_value_to_test = np.log(subset_to_test_with['SALARY'])\n",
    "\n",
    "subset_to_test_with.shape"
   ]
  },
  {
   "cell_type": "code",
   "execution_count": 3031,
   "metadata": {},
   "outputs": [],
   "source": [
    "\n",
    "\n",
    "y = np.asarray(y_value_to_test)\n",
    "features_to_test = hr_f3_no_hr_hints + position_columns\n",
    "X = np.asarray(subset_to_test_with[features_to_test])\n",
    "\n",
    "X, X_test, y, y_test = train_test_split(X, y, test_size=.2, random_state=10)\n"
   ]
  },
  {
   "cell_type": "code",
   "execution_count": 3032,
   "metadata": {},
   "outputs": [],
   "source": [
    "kf = KFold(n_splits=5, shuffle=True, random_state = 0)\n",
    "lr = Lasso(alpha=0.02)#LinearRegression()\n",
    "\n",
    "train_scores = []\n",
    "train_errors = []\n",
    "coefs = []\n",
    "for train_ind, val_ind in kf.split(X,y):\n",
    "        X_train, y_train = X[train_ind], y[train_ind]\n",
    "        X_val, y_val = X[val_ind], y[val_ind] \n",
    "        \n",
    "        #print(np.argwhere(np.isnan(X_train)))\n",
    "        scaler = StandardScaler()\n",
    "        X_train_scaled = scaler.fit_transform(X_train)\n",
    "        X_val_scaled = scaler.transform(X_val)\n",
    "        lr.fit(X_train_scaled, y_train)\n",
    "        \n",
    "        valid_set_pred = lr.predict(X_val_scaled)\n",
    "        train_scores.append(lr.score(X_val_scaled, y_val))\n",
    "        train_errors.append(np.sqrt(np.mean((valid_set_pred - y_val)**2)))\n",
    "        coefs.append(list(zip(features_to_test, lr.coef_)))\n",
    "        "
   ]
  },
  {
   "cell_type": "code",
   "execution_count": 3033,
   "metadata": {},
   "outputs": [
    {
     "data": {
      "text/plain": [
       "0.52151569573360912"
      ]
     },
     "execution_count": 3033,
     "metadata": {},
     "output_type": "execute_result"
    }
   ],
   "source": [
    "np.mean(train_scores)"
   ]
  },
  {
   "cell_type": "code",
   "execution_count": 3034,
   "metadata": {},
   "outputs": [
    {
     "data": {
      "text/plain": [
       "[[('BB', 2.6141369064689202),\n",
       "  ('SO', 3.8347261141335616),\n",
       "  ('SB', -1.1852089981576908),\n",
       "  ('WEIGHT', 0.67694497533328546),\n",
       "  ('2B', 2.2396820554867176),\n",
       "  ('3B', -0.99307153206075272),\n",
       "  ('POS_2', -0.23074716063931494),\n",
       "  ('POS_3', 0.29340423310937735),\n",
       "  ('POS_4', -1.0749045378346176),\n",
       "  ('POS_5', 0.0),\n",
       "  ('POS_6', -1.1227911905985344),\n",
       "  ('POS_7', 0.35782782379043149),\n",
       "  ('POS_8', -0.40979830191386796),\n",
       "  ('POS_9', 0.47209799342221548),\n",
       "  ('POS_D', 0.18768868896723293)],\n",
       " [('BB', 2.6375502027070401),\n",
       "  ('SO', 3.8645527573063307),\n",
       "  ('SB', -1.1129011544691061),\n",
       "  ('WEIGHT', 0.80482755586037225),\n",
       "  ('2B', 2.395696612062364),\n",
       "  ('3B', -0.84122435645338656),\n",
       "  ('POS_2', -0.066801283932647629),\n",
       "  ('POS_3', 0.3968942170112903),\n",
       "  ('POS_4', -0.9747847938644626),\n",
       "  ('POS_5', 0.0),\n",
       "  ('POS_6', -1.0006615675120749),\n",
       "  ('POS_7', 0.56317016812101672),\n",
       "  ('POS_8', -0.35159603028449338),\n",
       "  ('POS_9', 0.64977367951153986),\n",
       "  ('POS_D', 0.32773725520318997)],\n",
       " [('BB', 2.5823782469176941),\n",
       "  ('SO', 3.8563210422083642),\n",
       "  ('SB', -1.2285714788711197),\n",
       "  ('WEIGHT', 0.80404948317262737),\n",
       "  ('2B', 2.2724543816862841),\n",
       "  ('3B', -0.84852187647065092),\n",
       "  ('POS_2', -0.11016452136475194),\n",
       "  ('POS_3', 0.44600513626185329),\n",
       "  ('POS_4', -0.89944526379417422),\n",
       "  ('POS_5', 0.0),\n",
       "  ('POS_6', -0.98978842822655555),\n",
       "  ('POS_7', 0.45972381601208601),\n",
       "  ('POS_8', -0.36957189550857039),\n",
       "  ('POS_9', 0.56347207526554433),\n",
       "  ('POS_D', 0.29469857329281873)],\n",
       " [('BB', 2.6268796363642815),\n",
       "  ('SO', 3.6960258713772434),\n",
       "  ('SB', -1.1170870576985197),\n",
       "  ('WEIGHT', 0.90318158501669632),\n",
       "  ('2B', 2.4081203351173124),\n",
       "  ('3B', -0.95999574658246989),\n",
       "  ('POS_2', -0.1636352843474764),\n",
       "  ('POS_3', 0.37040382180637216),\n",
       "  ('POS_4', -0.97380409318254935),\n",
       "  ('POS_5', 0.0),\n",
       "  ('POS_6', -1.0566310481675913),\n",
       "  ('POS_7', 0.36779834488791646),\n",
       "  ('POS_8', -0.22655616575902696),\n",
       "  ('POS_9', 0.52646610228732171),\n",
       "  ('POS_D', 0.25777900746630567)],\n",
       " [('BB', 2.6194228962118831),\n",
       "  ('SO', 3.7888557439233126),\n",
       "  ('SB', -1.147336640686154),\n",
       "  ('WEIGHT', 0.78876950467259022),\n",
       "  ('2B', 2.2979808301608884),\n",
       "  ('3B', -1.0402739540839347),\n",
       "  ('POS_2', -0.0011003480137029204),\n",
       "  ('POS_3', 0.53995714506399817),\n",
       "  ('POS_4', -0.97149044199171031),\n",
       "  ('POS_5', 0.0),\n",
       "  ('POS_6', -0.80983394585603774),\n",
       "  ('POS_7', 0.44092598417797846),\n",
       "  ('POS_8', -0.080121594117450526),\n",
       "  ('POS_9', 0.56419298665777318),\n",
       "  ('POS_D', 0.31556700040555452)]]"
      ]
     },
     "execution_count": 3034,
     "metadata": {},
     "output_type": "execute_result"
    }
   ],
   "source": [
    "coefs"
   ]
  },
  {
   "cell_type": "code",
   "execution_count": 3035,
   "metadata": {},
   "outputs": [],
   "source": [
    "lr = LinearRegression()\n",
    "train_scores = []\n",
    "train_errors = []\n",
    "coefs = []\n",
    "for train_ind, val_ind in kf.split(X,y):\n",
    "        X_train, y_train = X[train_ind], y[train_ind]\n",
    "        X_val, y_val = X[val_ind], y[val_ind] \n",
    "        \n",
    "        poly = PolynomialFeatures(degree=2) \n",
    "\n",
    "        X_train_poly = poly.fit_transform(X_train)\n",
    "        X_val_poly = poly.transform(X_val)\n",
    "        \n",
    "        lr.fit(X_train_poly, y_train)\n",
    "        \n",
    "        valid_set_pred = lr.predict(X_val_poly)\n",
    "        train_scores.append(lr.score(X_val_poly, y_val))\n",
    "        train_errors.append(np.sqrt(np.mean((valid_set_pred - y_val)**2)))\n",
    "        coefs.append(list(zip(features_to_test, lr.coef_)))\n",
    "        \n",
    "        "
   ]
  },
  {
   "cell_type": "code",
   "execution_count": 3036,
   "metadata": {
    "scrolled": true
   },
   "outputs": [
    {
     "data": {
      "text/plain": [
       "0.53322856265725382"
      ]
     },
     "execution_count": 3036,
     "metadata": {},
     "output_type": "execute_result"
    }
   ],
   "source": [
    "np.mean(train_scores)"
   ]
  },
  {
   "cell_type": "code",
   "execution_count": 3037,
   "metadata": {},
   "outputs": [
    {
     "data": {
      "text/plain": [
       "[[('BB', -6.8910146726205189e-12),\n",
       "  ('SO', -0.1354837233113857),\n",
       "  ('SB', 0.36927461646668308),\n",
       "  ('WEIGHT', -0.51885484560327289),\n",
       "  ('2B', -0.24584577527451273),\n",
       "  ('3B', 0.1885750266836719),\n",
       "  ('POS_2', -0.66561145320217519),\n",
       "  ('POS_3', 7.2655855071002025),\n",
       "  ('POS_4', 1.9890634225488735),\n",
       "  ('POS_5', -4.5032265903901196),\n",
       "  ('POS_6', -1.1731798169306527),\n",
       "  ('POS_7', -7.2985671877912166),\n",
       "  ('POS_8', -0.23528885619991902),\n",
       "  ('POS_9', -0.67948014067681251),\n",
       "  ('POS_D', 3.4369144044499507)],\n",
       " [('BB', -5.3322490139526607e-12),\n",
       "  ('SO', -0.084442654662637145),\n",
       "  ('SB', 0.33104274115524951),\n",
       "  ('WEIGHT', -0.62321480749300617),\n",
       "  ('2B', -0.18570309770871923),\n",
       "  ('3B', 0.3311108444375479),\n",
       "  ('POS_2', -0.71565530713682568),\n",
       "  ('POS_3', 6.5207772461255598),\n",
       "  ('POS_4', 1.2338716752415988),\n",
       "  ('POS_5', -5.1687685243918855),\n",
       "  ('POS_6', -3.0702060335999422),\n",
       "  ('POS_7', -3.3399002002890898),\n",
       "  ('POS_8', -0.024652480829314784),\n",
       "  ('POS_9', 0.34042567200435575),\n",
       "  ('POS_D', 3.5228240126642794)],\n",
       " [('BB', -6.3566140943962082e-12),\n",
       "  ('SO', -0.16635310870530864),\n",
       "  ('SB', 0.32332263794399602),\n",
       "  ('WEIGHT', -0.58478162696549851),\n",
       "  ('2B', -0.23796228713539538),\n",
       "  ('3B', 0.42812805633903667),\n",
       "  ('POS_2', -0.93088236878852604),\n",
       "  ('POS_3', 4.5027636447745074),\n",
       "  ('POS_4', 2.2782980616285333),\n",
       "  ('POS_5', -3.8285880576618578),\n",
       "  ('POS_6', -1.4350902474926994),\n",
       "  ('POS_7', -8.0255807605238303),\n",
       "  ('POS_8', 1.3999632479395756),\n",
       "  ('POS_9', -0.7072894627961126),\n",
       "  ('POS_D', 3.4750291175106733)],\n",
       " [('BB', -5.3325263004701362e-12),\n",
       "  ('SO', -0.19036386256802548),\n",
       "  ('SB', 0.28830473675373691),\n",
       "  ('WEIGHT', -0.67710808815757284),\n",
       "  ('2B', -0.20911273093621799),\n",
       "  ('3B', 0.51282601689396579),\n",
       "  ('POS_2', -0.32515632556965174),\n",
       "  ('POS_3', 6.262423636756866),\n",
       "  ('POS_4', 1.3644630730970084),\n",
       "  ('POS_5', -4.757525201664798),\n",
       "  ('POS_6', -1.9840091172986964),\n",
       "  ('POS_7', -7.2213672179274706),\n",
       "  ('POS_8', 0.9584051906125528),\n",
       "  ('POS_9', 0.62433499900667477),\n",
       "  ('POS_D', 1.7952999846134907)],\n",
       " [('BB', 1.2975409520837392e-11),\n",
       "  ('SO', -0.14240974211393326),\n",
       "  ('SB', 0.34422659026067864),\n",
       "  ('WEIGHT', -0.56151034889609874),\n",
       "  ('2B', -0.24618504561677215),\n",
       "  ('3B', 0.2992816849748029),\n",
       "  ('POS_2', -0.96534996240932791),\n",
       "  ('POS_3', 7.4563611503624054),\n",
       "  ('POS_4', 2.3102290890223638),\n",
       "  ('POS_5', -4.950981878780957),\n",
       "  ('POS_6', -2.6773943913944791),\n",
       "  ('POS_7', -7.0658121569280263),\n",
       "  ('POS_8', 1.9099785186199356),\n",
       "  ('POS_9', -0.46325239375200522),\n",
       "  ('POS_D', 1.3214927014907638)]]"
      ]
     },
     "execution_count": 3037,
     "metadata": {},
     "output_type": "execute_result"
    }
   ],
   "source": [
    "coefs"
   ]
  },
  {
   "cell_type": "code",
   "execution_count": 3038,
   "metadata": {
    "collapsed": true,
    "scrolled": true
   },
   "outputs": [],
   "source": [
    "def diagnostic_plot(x, y):\n",
    "    plt.figure(figsize=(20,5))\n",
    "    s = len(y)\n",
    "    rgr = LinearRegression()\n",
    "    rgr.fit(x,y)\n",
    "    pred = rgr.predict(x)\n",
    "    \n",
    "    plt.subplot(1, 3, 2)\n",
    "    res = y - pred\n",
    "    plt.scatter(pred, res)\n",
    "    plt.title(\"Residual plot\")\n",
    "    plt.xlabel(\"prediction\")\n",
    "    plt.ylabel(\"residuals\")\n",
    "    \n",
    "    plt.subplot(1, 3, 3)\n",
    "    #Generates a probability plot of sample data against the quantiles of a \n",
    "    # specified theoretical distribution \n",
    "    stats.probplot(res, dist=\"norm\", plot=plt)\n",
    "    plt.title(\"Normal Q-Q plot\")\n",
    "    "
   ]
  },
  {
   "cell_type": "code",
   "execution_count": 3039,
   "metadata": {},
   "outputs": [
    {
     "data": {
      "image/png": "[encoded data removed]",
      "text/plain": [
       "<matplotlib.figure.Figure at 0x1c15ca30f0>"
      ]
     },
     "metadata": {},
     "output_type": "display_data"
    }
   ],
   "source": [
    "poly = PolynomialFeatures(degree=2) \n",
    "\n",
    "X_train_poly = poly.fit_transform(X)\n",
    "#lr = LinearRegression()\n",
    "#lr.fit(X_train_poly, y)\n",
    "#y_pres = lr.predict()\n",
    "diagnostic_plot(X_train_poly, y)"
   ]
  },
  {
   "cell_type": "code",
   "execution_count": 3040,
   "metadata": {},
   "outputs": [
    {
     "data": {
      "text/html": [
       "<table class=\"simpletable\">\n",
       "<caption>OLS Regression Results</caption>\n",
       "<tr>\n",
       "  <th>Dep. Variable:</th>            <td>y</td>        <th>  R-squared:         </th> <td>   0.525</td> \n",
       "</tr>\n",
       "<tr>\n",
       "  <th>Model:</th>                   <td>OLS</td>       <th>  Adj. R-squared:    </th> <td>   0.524</td> \n",
       "</tr>\n",
       "<tr>\n",
       "  <th>Method:</th>             <td>Least Squares</td>  <th>  F-statistic:       </th> <td>   399.6</td> \n",
       "</tr>\n",
       "<tr>\n",
       "  <th>Date:</th>             <td>Thu, 01 Feb 2018</td> <th>  Prob (F-statistic):</th>  <td>  0.00</td>  \n",
       "</tr>\n",
       "<tr>\n",
       "  <th>Time:</th>                 <td>15:42:33</td>     <th>  Log-Likelihood:    </th> <td> -17255.</td> \n",
       "</tr>\n",
       "<tr>\n",
       "  <th>No. Observations:</th>      <td>  5072</td>      <th>  AIC:               </th> <td>3.454e+04</td>\n",
       "</tr>\n",
       "<tr>\n",
       "  <th>Df Residuals:</th>          <td>  5057</td>      <th>  BIC:               </th> <td>3.464e+04</td>\n",
       "</tr>\n",
       "<tr>\n",
       "  <th>Df Model:</th>              <td>    14</td>      <th>                     </th>     <td> </td>    \n",
       "</tr>\n",
       "<tr>\n",
       "  <th>Covariance Type:</th>      <td>nonrobust</td>    <th>                     </th>     <td> </td>    \n",
       "</tr>\n",
       "</table>\n",
       "<table class=\"simpletable\">\n",
       "<tr>\n",
       "     <td></td>       <th>coef</th>     <th>std err</th>      <th>t</th>      <th>P>|t|</th>  <th>[0.025</th>    <th>0.975]</th>  \n",
       "</tr>\n",
       "<tr>\n",
       "  <th>BB</th>     <td>  -10.6192</td> <td>    0.961</td> <td>  -11.049</td> <td> 0.000</td> <td>  -12.503</td> <td>   -8.735</td>\n",
       "</tr>\n",
       "<tr>\n",
       "  <th>SO</th>     <td>    0.1167</td> <td>    0.005</td> <td>   22.697</td> <td> 0.000</td> <td>    0.107</td> <td>    0.127</td>\n",
       "</tr>\n",
       "<tr>\n",
       "  <th>SB</th>     <td>    0.1171</td> <td>    0.004</td> <td>   32.102</td> <td> 0.000</td> <td>    0.110</td> <td>    0.124</td>\n",
       "</tr>\n",
       "<tr>\n",
       "  <th>WEIGHT</th> <td>   -0.0949</td> <td>    0.010</td> <td>   -9.141</td> <td> 0.000</td> <td>   -0.115</td> <td>   -0.075</td>\n",
       "</tr>\n",
       "<tr>\n",
       "  <th>2B</th>     <td>    0.0349</td> <td>    0.006</td> <td>    6.334</td> <td> 0.000</td> <td>    0.024</td> <td>    0.046</td>\n",
       "</tr>\n",
       "<tr>\n",
       "  <th>3B</th>     <td>    0.2772</td> <td>    0.013</td> <td>   21.502</td> <td> 0.000</td> <td>    0.252</td> <td>    0.302</td>\n",
       "</tr>\n",
       "<tr>\n",
       "  <th>POS_2</th>  <td>   -0.3524</td> <td>    0.046</td> <td>   -7.715</td> <td> 0.000</td> <td>   -0.442</td> <td>   -0.263</td>\n",
       "</tr>\n",
       "<tr>\n",
       "  <th>POS_3</th>  <td>   -1.4664</td> <td>    0.363</td> <td>   -4.045</td> <td> 0.000</td> <td>   -2.177</td> <td>   -0.756</td>\n",
       "</tr>\n",
       "<tr>\n",
       "  <th>POS_4</th>  <td>    0.2489</td> <td>    0.325</td> <td>    0.765</td> <td> 0.444</td> <td>   -0.389</td> <td>    0.887</td>\n",
       "</tr>\n",
       "<tr>\n",
       "  <th>POS_5</th>  <td>   -3.9971</td> <td>    0.285</td> <td>  -14.020</td> <td> 0.000</td> <td>   -4.556</td> <td>   -3.438</td>\n",
       "</tr>\n",
       "<tr>\n",
       "  <th>POS_6</th>  <td>   -0.9869</td> <td>    0.301</td> <td>   -3.274</td> <td> 0.001</td> <td>   -1.578</td> <td>   -0.396</td>\n",
       "</tr>\n",
       "<tr>\n",
       "  <th>POS_7</th>  <td>   -4.0932</td> <td>    0.294</td> <td>  -13.946</td> <td> 0.000</td> <td>   -4.669</td> <td>   -3.518</td>\n",
       "</tr>\n",
       "<tr>\n",
       "  <th>POS_8</th>  <td>    0.4394</td> <td>    0.311</td> <td>    1.415</td> <td> 0.157</td> <td>   -0.169</td> <td>    1.048</td>\n",
       "</tr>\n",
       "<tr>\n",
       "  <th>POS_9</th>  <td>   -1.8968</td> <td>    0.321</td> <td>   -5.913</td> <td> 0.000</td> <td>   -2.526</td> <td>   -1.268</td>\n",
       "</tr>\n",
       "<tr>\n",
       "  <th>POS_D</th>  <td>    0.7257</td> <td>    0.301</td> <td>    2.408</td> <td> 0.016</td> <td>    0.135</td> <td>    1.317</td>\n",
       "</tr>\n",
       "</table>\n",
       "<table class=\"simpletable\">\n",
       "<tr>\n",
       "  <th>Omnibus:</th>       <td>433.092</td> <th>  Durbin-Watson:     </th> <td>   2.041</td> \n",
       "</tr>\n",
       "<tr>\n",
       "  <th>Prob(Omnibus):</th> <td> 0.000</td>  <th>  Jarque-Bera (JB):  </th> <td> 669.906</td> \n",
       "</tr>\n",
       "<tr>\n",
       "  <th>Skew:</th>          <td> 0.654</td>  <th>  Prob(JB):          </th> <td>3.40e-146</td>\n",
       "</tr>\n",
       "<tr>\n",
       "  <th>Kurtosis:</th>      <td> 4.207</td>  <th>  Cond. No.          </th> <td>1.28e+18</td> \n",
       "</tr>\n",
       "</table>"
      ],
      "text/plain": [
       "<class 'statsmodels.iolib.summary.Summary'>\n",
       "\"\"\"\n",
       "                            OLS Regression Results                            \n",
       "==============================================================================\n",
       "Dep. Variable:                      y   R-squared:                       0.525\n",
       "Model:                            OLS   Adj. R-squared:                  0.524\n",
       "Method:                 Least Squares   F-statistic:                     399.6\n",
       "Date:                Thu, 01 Feb 2018   Prob (F-statistic):               0.00\n",
       "Time:                        15:42:33   Log-Likelihood:                -17255.\n",
       "No. Observations:                5072   AIC:                         3.454e+04\n",
       "Df Residuals:                    5057   BIC:                         3.464e+04\n",
       "Df Model:                          14                                         \n",
       "Covariance Type:            nonrobust                                         \n",
       "==============================================================================\n",
       "                 coef    std err          t      P>|t|      [0.025      0.975]\n",
       "------------------------------------------------------------------------------\n",
       "BB           -10.6192      0.961    -11.049      0.000     -12.503      -8.735\n",
       "SO             0.1167      0.005     22.697      0.000       0.107       0.127\n",
       "SB             0.1171      0.004     32.102      0.000       0.110       0.124\n",
       "WEIGHT        -0.0949      0.010     -9.141      0.000      -0.115      -0.075\n",
       "2B             0.0349      0.006      6.334      0.000       0.024       0.046\n",
       "3B             0.2772      0.013     21.502      0.000       0.252       0.302\n",
       "POS_2         -0.3524      0.046     -7.715      0.000      -0.442      -0.263\n",
       "POS_3         -1.4664      0.363     -4.045      0.000      -2.177      -0.756\n",
       "POS_4          0.2489      0.325      0.765      0.444      -0.389       0.887\n",
       "POS_5         -3.9971      0.285    -14.020      0.000      -4.556      -3.438\n",
       "POS_6         -0.9869      0.301     -3.274      0.001      -1.578      -0.396\n",
       "POS_7         -4.0932      0.294    -13.946      0.000      -4.669      -3.518\n",
       "POS_8          0.4394      0.311      1.415      0.157      -0.169       1.048\n",
       "POS_9         -1.8968      0.321     -5.913      0.000      -2.526      -1.268\n",
       "POS_D          0.7257      0.301      2.408      0.016       0.135       1.317\n",
       "==============================================================================\n",
       "Omnibus:                      433.092   Durbin-Watson:                   2.041\n",
       "Prob(Omnibus):                  0.000   Jarque-Bera (JB):              669.906\n",
       "Skew:                           0.654   Prob(JB):                    3.40e-146\n",
       "Kurtosis:                       4.207   Cond. No.                     1.28e+18\n",
       "==============================================================================\n",
       "\n",
       "Warnings:\n",
       "[1] Standard Errors assume that the covariance matrix of the errors is correctly specified.\n",
       "[2] The smallest eigenvalue is 1.58e-28. This might indicate that there are\n",
       "strong multicollinearity problems or that the design matrix is singular.\n",
       "\"\"\""
      ]
     },
     "execution_count": 3040,
     "metadata": {},
     "output_type": "execute_result"
    }
   ],
   "source": [
    "model = sm.OLS(y,sm.add_constant(X))\n",
    "model.data.xnames = features_to_test\n",
    "fit = model.fit()\n",
    "fit.summary()"
   ]
  },
  {
   "cell_type": "code",
   "execution_count": 3041,
   "metadata": {},
   "outputs": [],
   "source": [
    "def find_alpha():\n",
    "    #X2, X2_test, y2, y2_test = train_test_split(X, y, test_size=.2, random_state=10)\n",
    "    params = {\n",
    "        \"alpha\": np.logspace(-4, -.1, 20)\n",
    "    }\n",
    "\n",
    "    grid_est = GridSearchCV(Lasso(), param_grid=params, cv=5)\n",
    "    grid_est.fit(X, y)\n",
    "    df = pd.DataFrame(grid_est.grid_scores_)\n",
    "    df[\"alpha\"] = df.parameters.apply(lambda val: val[\"alpha\"])\n",
    "    plt.plot(np.log(df.alpha), df.mean_validation_score);\n",
    "    return grid_est.grid_scores_"
   ]
  },
  {
   "cell_type": "code",
   "execution_count": 3042,
   "metadata": {},
   "outputs": [
    {
     "name": "stderr",
     "output_type": "stream",
     "text": [
      "/Users/Munoz/anaconda3/lib/python3.6/site-packages/sklearn/linear_model/coordinate_descent.py:491: ConvergenceWarning: Objective did not converge. You might want to increase the number of iterations. Fitting data with very small alpha may cause precision problems.\n",
      "  ConvergenceWarning)\n",
      "/Users/Munoz/anaconda3/lib/python3.6/site-packages/sklearn/model_selection/_search.py:761: DeprecationWarning: The grid_scores_ attribute was deprecated in version 0.18 in favor of the more elaborate cv_results_ attribute. The grid_scores_ attribute will not be available from 0.20\n",
      "  DeprecationWarning)\n",
      "/Users/Munoz/anaconda3/lib/python3.6/site-packages/sklearn/model_selection/_search.py:761: DeprecationWarning: The grid_scores_ attribute was deprecated in version 0.18 in favor of the more elaborate cv_results_ attribute. The grid_scores_ attribute will not be available from 0.20\n",
      "  DeprecationWarning)\n"
     ]
    },
    {
     "data": {
      "text/plain": [
       "[mean: 0.52177, std: 0.01121, params: {'alpha': 0.0001},\n",
       " mean: 0.52177, std: 0.01121, params: {'alpha': 0.00016042171611153241},\n",
       " mean: 0.52177, std: 0.01121, params: {'alpha': 0.00025735127000169099},\n",
       " mean: 0.52177, std: 0.01120, params: {'alpha': 0.00041284732377153599},\n",
       " mean: 0.52177, std: 0.01120, params: {'alpha': 0.00066229676171483253},\n",
       " mean: 0.52177, std: 0.01119, params: {'alpha': 0.001062467830894041},\n",
       " mean: 0.52177, std: 0.01117, params: {'alpha': 0.0017044291274531946},\n",
       " mean: 0.52176, std: 0.01115, params: {'alpha': 0.0027342744561652328},\n",
       " mean: 0.52175, std: 0.01111, params: {'alpha': 0.0043863700057795363},\n",
       " mean: 0.52173, std: 0.01105, params: {'alpha': 0.0070366900382730557},\n",
       " mean: 0.52166, std: 0.01096, params: {'alpha': 0.011288378916846895},\n",
       " mean: 0.52148, std: 0.01082, params: {'alpha': 0.018109011179578204},\n",
       " mean: 0.52107, std: 0.01063, params: {'alpha': 0.029050786505108613},\n",
       " mean: 0.52006, std: 0.01041, params: {'alpha': 0.04660377025539271},\n",
       " mean: 0.51834, std: 0.01047, params: {'alpha': 0.074762568016376874},\n",
       " mean: 0.51484, std: 0.01087, params: {'alpha': 0.11993539462092344},\n",
       " mean: 0.50839, std: 0.01193, params: {'alpha': 0.19240241827602392},\n",
       " mean: 0.49877, std: 0.01256, params: {'alpha': 0.30865526123848624},\n",
       " mean: 0.49845, std: 0.01226, params: {'alpha': 0.49515006694731312},\n",
       " mean: 0.49783, std: 0.01195, params: {'alpha': 0.79432823472428149}]"
      ]
     },
     "execution_count": 3042,
     "metadata": {},
     "output_type": "execute_result"
    },
    {
     "data": {
      "image/png": "[encoded data removed]",
      "text/plain": [
       "<matplotlib.figure.Figure at 0x1c15953be0>"
      ]
     },
     "metadata": {},
     "output_type": "display_data"
    }
   ],
   "source": [
    "find_alpha()"
   ]
  },
  {
   "cell_type": "code",
   "execution_count": 3043,
   "metadata": {},
   "outputs": [
    {
     "data": {
      "text/plain": [
       "0.93881069575035903"
      ]
     },
     "execution_count": 3043,
     "metadata": {},
     "output_type": "execute_result"
    }
   ],
   "source": [
    "from sklearn.ensemble import RandomForestRegressor\n",
    "\n",
    "rf = RandomForestRegressor(n_estimators=1800, max_features=3)\n",
    "rf.fit(X_train, y_train)\n",
    "rf.score(X_train, y_train)"
   ]
  },
  {
   "cell_type": "code",
   "execution_count": null,
   "metadata": {
    "collapsed": true
   },
   "outputs": [],
   "source": []
  }
 ],
 "metadata": {
  "kernelspec": {
   "display_name": "Python 3",
   "language": "python",
   "name": "python3"
  },
  "language_info": {
   "codemirror_mode": {
    "name": "ipython",
    "version": 3
   },
   "file_extension": ".py",
   "mimetype": "text/x-python",
   "name": "python",
   "nbconvert_exporter": "python",
   "pygments_lexer": "ipython3",
   "version": "3.6.3"
  }
 },
 "nbformat": 4,
 "nbformat_minor": 2
}
