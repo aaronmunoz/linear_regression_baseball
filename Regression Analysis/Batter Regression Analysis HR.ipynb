{
 "cells": [
  {
   "cell_type": "code",
   "execution_count": 139,
   "metadata": {},
   "outputs": [],
   "source": [
    "import pandas as pd\n",
    "import numpy as np\n",
    "import matplotlib.pyplot as plt\n",
    "import seaborn as sns\n",
    "sns.set()\n",
    "%matplotlib inline\n",
    "import statsmodels.api as sm\n",
    "import statsmodels.formula.api as smf\n",
    "from sklearn.model_selection import train_test_split, KFold, GridSearchCV\n",
    "from sklearn.preprocessing import StandardScaler, PolynomialFeatures\n",
    "from sklearn.linear_model import LinearRegression, Lasso, LassoCV, Ridge\n",
    "import scipy.stats as stats"
   ]
  },
  {
   "cell_type": "code",
   "execution_count": 140,
   "metadata": {
    "collapsed": true
   },
   "outputs": [],
   "source": [
    "batters_df = pd.read_csv('../DEA Notebooks/cleaned_batting_years_1985_to_2017.csv')"
   ]
  },
  {
   "cell_type": "code",
   "execution_count": 141,
   "metadata": {
    "collapsed": true
   },
   "outputs": [],
   "source": [
    "del batters_df['Unnamed: 0']"
   ]
  },
  {
   "cell_type": "code",
   "execution_count": 142,
   "metadata": {},
   "outputs": [
    {
     "data": {
      "text/plain": [
       "Index(['ID', 'NAME', 'HEIGHT', 'WEIGHT', 'YEAR', 'AGE', 'TM', 'LG', 'G', 'PA',\n",
       "       'AB', 'R', 'H', '2B', '3B', 'HR', 'RBI', 'SB', 'CS', 'BB', 'SO', 'BA',\n",
       "       'OBP', 'SLG', 'OPS', 'OPS+', 'TB', 'GDP', 'HBP', 'SH', 'SF', 'IBB',\n",
       "       'AWARDS', 'SALARY', 'BATS_Left', 'BATS_Right', 'LG_SALARY_YEAR',\n",
       "       'LG_SALARY_MEAN', 'POS_1', 'POS_2', 'POS_3', 'POS_4', 'POS_5', 'POS_6',\n",
       "       'POS_7', 'POS_8', 'POS_9', 'POS_D', 'LG_MEAN_HR'],\n",
       "      dtype='object')"
      ]
     },
     "execution_count": 142,
     "metadata": {},
     "output_type": "execute_result"
    }
   ],
   "source": [
    "batters_df.columns"
   ]
  },
  {
   "cell_type": "code",
   "execution_count": null,
   "metadata": {
    "collapsed": true
   },
   "outputs": [],
   "source": []
  },
  {
   "cell_type": "code",
   "execution_count": 143,
   "metadata": {
    "collapsed": true
   },
   "outputs": [],
   "source": [
    "\n",
    "\n",
    "f1 = ['AGE', 'PA',\n",
    "       'R', 'H', '2B', 'HR', 'RBI', 'BB', 'SO', 'BA',\n",
    "       'OBP', 'SLG', 'OPS', \n",
    "       'LG_SALARY_YEAR']\n",
    "f2 = ['AGE', 'LG_SALARY_MEAN', 'BB', 'H', 'R', '2B', 'HR', 'RBI', 'PA', 'TB']\n",
    "f3 = ['AGE', 'OBP', 'SLG', 'HR', 'LG_SALARY_MEAN', 'RBI']\n",
    "position_columns = ['POS_2', 'POS_3', 'POS_4', 'POS_5', 'POS_6',\n",
    "       'POS_7', 'POS_8', 'POS_9', 'POS_D']\n",
    "\n",
    "hr_f1 = ['WEIGHT', 'BB', 'H', 'R', '2B', '3B', 'RBI', 'BA', 'SO', 'SB']\n",
    "hr_f2 = ['AGE', 'WEIGHT', 'OPS', 'R', 'OBP', 'SO']\n",
    "\n",
    "hr_f3_no_hr_hints = ['BB', 'SO', 'SB', 'WEIGHT', '2B', '3B']"
   ]
  },
  {
   "cell_type": "code",
   "execution_count": 144,
   "metadata": {},
   "outputs": [
    {
     "data": {
      "text/plain": [
       "(1801, 49)"
      ]
     },
     "execution_count": 144,
     "metadata": {},
     "output_type": "execute_result"
    }
   ],
   "source": [
    "subset_to_test_with = batters_df[(batters_df.PA >= 400) & (batters_df.YEAR != 1994)]\n",
    "\n",
    "y_value_to_test = subset_to_test_with['HR']\n",
    "#y_value_to_test = np.log(subset_to_test_with['SALARY'])\n",
    "\n",
    "subset_to_test_with.shape"
   ]
  },
  {
   "cell_type": "code",
   "execution_count": 145,
   "metadata": {
    "collapsed": true
   },
   "outputs": [],
   "source": [
    "\n",
    "\n",
    "y = np.asarray(y_value_to_test)\n",
    "features_to_test = hr_f3_no_hr_hints + position_columns\n",
    "X = np.asarray(subset_to_test_with[features_to_test])\n",
    "\n",
    "X, X_test, y, y_test = train_test_split(X, y, test_size=.2, random_state=11)\n"
   ]
  },
  {
   "cell_type": "code",
   "execution_count": 146,
   "metadata": {
    "collapsed": true
   },
   "outputs": [],
   "source": [
    "kf = KFold(n_splits=5, shuffle=True, random_state = 0)\n",
    "lr = Lasso(alpha=0.02)#LinearRegression()\n",
    "\n",
    "train_scores = []\n",
    "train_errors = []\n",
    "coefs = []\n",
    "for train_ind, val_ind in kf.split(X,y):\n",
    "        X_train, y_train = X[train_ind], y[train_ind]\n",
    "        X_val, y_val = X[val_ind], y[val_ind] \n",
    "        \n",
    "        #print(np.argwhere(np.isnan(X_train)))\n",
    "        scaler = StandardScaler()\n",
    "        X_train_scaled = scaler.fit_transform(X_train)\n",
    "        X_val_scaled = scaler.transform(X_val)\n",
    "        lr.fit(X_train_scaled, y_train)\n",
    "        \n",
    "        valid_set_pred = lr.predict(X_val_scaled)\n",
    "        train_scores.append(lr.score(X_val_scaled, y_val))\n",
    "        train_errors.append(np.sqrt(np.mean((valid_set_pred - y_val)**2)))\n",
    "        coefs.append(list(zip(features_to_test, lr.coef_)))\n",
    "        "
   ]
  },
  {
   "cell_type": "code",
   "execution_count": 147,
   "metadata": {},
   "outputs": [
    {
     "data": {
      "text/plain": [
       "0.5423479137964311"
      ]
     },
     "execution_count": 147,
     "metadata": {},
     "output_type": "execute_result"
    }
   ],
   "source": [
    "np.mean(train_scores)"
   ]
  },
  {
   "cell_type": "code",
   "execution_count": 148,
   "metadata": {},
   "outputs": [
    {
     "data": {
      "text/plain": [
       "[[('BB', 1.7777667815008935),\n",
       "  ('SO', 4.0449441779756201),\n",
       "  ('SB', -0.93463578189507834),\n",
       "  ('WEIGHT', 1.2727856425274597),\n",
       "  ('2B', 1.8446049928459638),\n",
       "  ('3B', -0.82558437856413636),\n",
       "  ('POS_2', -0.0),\n",
       "  ('POS_3', 0.92381863196764835),\n",
       "  ('POS_4', -0.96363450104722659),\n",
       "  ('POS_5', -0.0),\n",
       "  ('POS_6', -0.86857853992491352),\n",
       "  ('POS_7', 0.73106532256911472),\n",
       "  ('POS_8', -0.28127955359450901),\n",
       "  ('POS_9', 0.84548453091564224),\n",
       "  ('POS_D', 0.39175180068826027)],\n",
       " [('BB', 1.7808867795063226),\n",
       "  ('SO', 3.7720430869017316),\n",
       "  ('SB', -1.3163770210797163),\n",
       "  ('WEIGHT', 1.5715277603778592),\n",
       "  ('2B', 1.7614556059330093),\n",
       "  ('3B', -0.81138026505371685),\n",
       "  ('POS_2', 0.0),\n",
       "  ('POS_3', 0.65654007351197363),\n",
       "  ('POS_4', -0.96454139746153766),\n",
       "  ('POS_5', -0.34045255134888436),\n",
       "  ('POS_6', -1.0538005938286064),\n",
       "  ('POS_7', 0.56034646779300135),\n",
       "  ('POS_8', -0.3238220310758379),\n",
       "  ('POS_9', 0.66833293348997547),\n",
       "  ('POS_D', 0.11294172185806296)],\n",
       " [('BB', 1.733859850424089),\n",
       "  ('SO', 3.9248838841153466),\n",
       "  ('SB', -1.1131130753031793),\n",
       "  ('WEIGHT', 1.5226917691868667),\n",
       "  ('2B', 1.8500593171000221),\n",
       "  ('3B', -0.86064717136370972),\n",
       "  ('POS_2', 0.0),\n",
       "  ('POS_3', 0.83525478823771049),\n",
       "  ('POS_4', -0.7327717044226939),\n",
       "  ('POS_5', -0.21866668976070824),\n",
       "  ('POS_6', -0.76957708654982659),\n",
       "  ('POS_7', 0.74515964474771657),\n",
       "  ('POS_8', -0.068029152266560339),\n",
       "  ('POS_9', 0.76138973449519509),\n",
       "  ('POS_D', 0.33970968264741719)],\n",
       " [('BB', 1.4622983138665531),\n",
       "  ('SO', 3.9462240298842124),\n",
       "  ('SB', -1.3495029860546284),\n",
       "  ('WEIGHT', 1.0929953250743989),\n",
       "  ('2B', 2.0882396333254207),\n",
       "  ('3B', -0.95652845167133871),\n",
       "  ('POS_2', 0.0),\n",
       "  ('POS_3', 0.86783324319972044),\n",
       "  ('POS_4', -0.85679704125605194),\n",
       "  ('POS_5', -0.02989178442182143),\n",
       "  ('POS_6', -0.80662160870734967),\n",
       "  ('POS_7', 0.93902060730794146),\n",
       "  ('POS_8', -0.066238796538209535),\n",
       "  ('POS_9', 0.94148930171092982),\n",
       "  ('POS_D', 0.47132429742478571)],\n",
       " [('BB', 1.7801288945561045),\n",
       "  ('SO', 4.0004379983708471),\n",
       "  ('SB', -1.2854154461472533),\n",
       "  ('WEIGHT', 1.5644278155483458),\n",
       "  ('2B', 1.9827219627155555),\n",
       "  ('3B', -0.77363970192852627),\n",
       "  ('POS_2', 0.0),\n",
       "  ('POS_3', 0.81134194621508515),\n",
       "  ('POS_4', -0.8252402697439275),\n",
       "  ('POS_5', -0.0074520609176530203),\n",
       "  ('POS_6', -0.82171038716464828),\n",
       "  ('POS_7', 0.89041090452377936),\n",
       "  ('POS_8', -0.13608804624602847),\n",
       "  ('POS_9', 0.77793704388473384),\n",
       "  ('POS_D', 0.2693494875268283)]]"
      ]
     },
     "execution_count": 148,
     "metadata": {},
     "output_type": "execute_result"
    }
   ],
   "source": [
    "coefs"
   ]
  },
  {
   "cell_type": "code",
   "execution_count": 149,
   "metadata": {
    "collapsed": true
   },
   "outputs": [],
   "source": [
    "lr = LinearRegression()\n",
    "train_scores = []\n",
    "train_errors = []\n",
    "coefs = []\n",
    "for train_ind, val_ind in kf.split(X,y):\n",
    "        X_train, y_train = X[train_ind], y[train_ind]\n",
    "        X_val, y_val = X[val_ind], y[val_ind] \n",
    "        \n",
    "        poly = PolynomialFeatures(degree=2) \n",
    "\n",
    "        X_train_poly = poly.fit_transform(X_train)\n",
    "        X_val_poly = poly.transform(X_val)\n",
    "        \n",
    "        lr.fit(X_train_poly, y_train)\n",
    "        \n",
    "        valid_set_pred = lr.predict(X_val_poly)\n",
    "        train_scores.append(lr.score(X_val_poly, y_val))\n",
    "        train_errors.append(np.sqrt(np.mean((valid_set_pred - y_val)**2)))\n",
    "        coefs.append(list(zip(features_to_test, lr.coef_)))\n",
    "        \n",
    "        "
   ]
  },
  {
   "cell_type": "code",
   "execution_count": 150,
   "metadata": {
    "scrolled": true
   },
   "outputs": [
    {
     "data": {
      "text/plain": [
       "0.53571306191736956"
      ]
     },
     "execution_count": 150,
     "metadata": {},
     "output_type": "execute_result"
    }
   ],
   "source": [
    "np.mean(train_scores)"
   ]
  },
  {
   "cell_type": "code",
   "execution_count": 151,
   "metadata": {},
   "outputs": [
    {
     "data": {
      "text/plain": [
       "[[('BB', -2.4480857500697413e-11),\n",
       "  ('SO', -0.10732980819280181),\n",
       "  ('SB', 0.18887960748649521),\n",
       "  ('WEIGHT', -0.21900333359478111),\n",
       "  ('2B', -0.027074614387200231),\n",
       "  ('3B', 0.3045415854140528),\n",
       "  ('POS_2', -1.4833437199027411),\n",
       "  ('POS_3', 2.0985020450300942),\n",
       "  ('POS_4', 1.2815171335383224),\n",
       "  ('POS_5', 5.5816225346585329),\n",
       "  ('POS_6', 4.0016307638273938),\n",
       "  ('POS_7', -13.396501281340338),\n",
       "  ('POS_8', -1.071440024271417),\n",
       "  ('POS_9', -4.0676674016640364),\n",
       "  ('POS_D', -1.771872057158588)],\n",
       " [('BB', -1.9257633153863815e-13),\n",
       "  ('SO', -0.017670368376142685),\n",
       "  ('SB', 0.14966665179902827),\n",
       "  ('WEIGHT', -0.18545944843181195),\n",
       "  ('2B', -0.019017924070329342),\n",
       "  ('3B', 0.33490812139039189),\n",
       "  ('POS_2', -1.0700486351803749),\n",
       "  ('POS_3', 2.8889832258691053),\n",
       "  ('POS_4', 0.79528632240413233),\n",
       "  ('POS_5', 5.2295412492528444),\n",
       "  ('POS_6', 0.02515222837075809),\n",
       "  ('POS_7', -13.977346262920907),\n",
       "  ('POS_8', 2.5998932470618663),\n",
       "  ('POS_9', -2.0716074702520526),\n",
       "  ('POS_D', -1.5620514339068789)],\n",
       " [('BB', -4.1180775396400438e-12),\n",
       "  ('SO', -0.079668118972956573),\n",
       "  ('SB', 0.15647927012620699),\n",
       "  ('WEIGHT', -0.067017253419745598),\n",
       "  ('2B', -0.1784553831193649),\n",
       "  ('3B', 0.13810538026150523),\n",
       "  ('POS_2', -1.9530793487241291),\n",
       "  ('POS_3', 4.2010619421329078),\n",
       "  ('POS_4', 1.4805927574611724),\n",
       "  ('POS_5', 5.7078687468622311),\n",
       "  ('POS_6', 5.5743483368395799),\n",
       "  ('POS_7', -13.529580313933041),\n",
       "  ('POS_8', -6.5106000942739719),\n",
       "  ('POS_9', 0.28401190451749159),\n",
       "  ('POS_D', -0.84913731670070292)],\n",
       " [('BB', 1.1647493570590566e-11),\n",
       "  ('SO', -0.098573913058044277),\n",
       "  ('SB', 0.25511342153921496),\n",
       "  ('WEIGHT', -0.057915061096020598),\n",
       "  ('2B', -0.092578785837687444),\n",
       "  ('3B', -0.091971650206393113),\n",
       "  ('POS_2', -0.99362481992555962),\n",
       "  ('POS_3', 8.1589664058394504),\n",
       "  ('POS_4', 0.22470398731492555),\n",
       "  ('POS_5', 5.8328690744908887),\n",
       "  ('POS_6', 3.3607488957178182),\n",
       "  ('POS_7', -15.784033694559728),\n",
       "  ('POS_8', -2.8996963588435709),\n",
       "  ('POS_9', -2.5054372043191835),\n",
       "  ('POS_D', -4.294809224530252)],\n",
       " [('BB', -8.267493468740032e-12),\n",
       "  ('SO', -0.077363403333840841),\n",
       "  ('SB', 0.2276503916212482),\n",
       "  ('WEIGHT', -0.40609905038459726),\n",
       "  ('2B', -0.10092971585466687),\n",
       "  ('3B', 0.058131158785050131),\n",
       "  ('POS_2', -0.69646932545271723),\n",
       "  ('POS_3', -0.88450338569425113),\n",
       "  ('POS_4', 1.4683341925109414),\n",
       "  ('POS_5', 12.065042912628474),\n",
       "  ('POS_6', 2.5281495200519961),\n",
       "  ('POS_7', -13.670232759792491),\n",
       "  ('POS_8', -3.6554189449879857),\n",
       "  ('POS_9', -0.65688395282233469),\n",
       "  ('POS_D', -0.64423635582598282)]]"
      ]
     },
     "execution_count": 151,
     "metadata": {},
     "output_type": "execute_result"
    }
   ],
   "source": [
    "coefs"
   ]
  },
  {
   "cell_type": "code",
   "execution_count": 152,
   "metadata": {
    "collapsed": true,
    "scrolled": true
   },
   "outputs": [],
   "source": [
    "def diagnostic_plot(x, y):\n",
    "    plt.figure(figsize=(20,5))\n",
    "    s = len(y)\n",
    "    rgr = LinearRegression()\n",
    "    rgr.fit(x,y)\n",
    "    pred = rgr.predict(x)\n",
    "    \n",
    "    plt.subplot(1, 3, 2)\n",
    "    res = y - pred\n",
    "    plt.scatter(pred, res)\n",
    "    plt.title(\"Residual plot\")\n",
    "    plt.xlabel(\"prediction\")\n",
    "    plt.ylabel(\"residuals\")\n",
    "    \n",
    "    plt.subplot(1, 3, 3)\n",
    "    #Generates a probability plot of sample data against the quantiles of a \n",
    "    # specified theoretical distribution \n",
    "    stats.probplot(res, dist=\"norm\", plot=plt)\n",
    "    plt.title(\"Normal Q-Q plot\")\n",
    "    "
   ]
  },
  {
   "cell_type": "code",
   "execution_count": 153,
   "metadata": {},
   "outputs": [
    {
     "data": {
      "image/png": "[encoded data removed]",
      "text/plain": [
       "<matplotlib.figure.Figure at 0x10c0ce278>"
      ]
     },
     "metadata": {},
     "output_type": "display_data"
    }
   ],
   "source": [
    "poly = PolynomialFeatures(degree=2) \n",
    "\n",
    "X_train_poly = poly.fit_transform(X)\n",
    "#lr = LinearRegression()\n",
    "#lr.fit(X_train_poly, y)\n",
    "#y_pres = lr.predict()\n",
    "diagnostic_plot(X_train_poly, y)"
   ]
  },
  {
   "cell_type": "code",
   "execution_count": 154,
   "metadata": {},
   "outputs": [
    {
     "data": {
      "text/html": [
       "<table class=\"simpletable\">\n",
       "<caption>OLS Regression Results</caption>\n",
       "<tr>\n",
       "  <th>Dep. Variable:</th>            <td>y</td>        <th>  R-squared:         </th> <td>   0.556</td> \n",
       "</tr>\n",
       "<tr>\n",
       "  <th>Model:</th>                   <td>OLS</td>       <th>  Adj. R-squared:    </th> <td>   0.552</td> \n",
       "</tr>\n",
       "<tr>\n",
       "  <th>Method:</th>             <td>Least Squares</td>  <th>  F-statistic:       </th> <td>   127.4</td> \n",
       "</tr>\n",
       "<tr>\n",
       "  <th>Date:</th>             <td>Fri, 02 Feb 2018</td> <th>  Prob (F-statistic):</th> <td>3.56e-239</td>\n",
       "</tr>\n",
       "<tr>\n",
       "  <th>Time:</th>                 <td>05:16:04</td>     <th>  Log-Likelihood:    </th> <td> -4736.4</td> \n",
       "</tr>\n",
       "<tr>\n",
       "  <th>No. Observations:</th>      <td>  1440</td>      <th>  AIC:               </th> <td>   9503.</td> \n",
       "</tr>\n",
       "<tr>\n",
       "  <th>Df Residuals:</th>          <td>  1425</td>      <th>  BIC:               </th> <td>   9582.</td> \n",
       "</tr>\n",
       "<tr>\n",
       "  <th>Df Model:</th>              <td>    14</td>      <th>                     </th>     <td> </td>    \n",
       "</tr>\n",
       "<tr>\n",
       "  <th>Covariance Type:</th>      <td>nonrobust</td>    <th>                     </th>     <td> </td>    \n",
       "</tr>\n",
       "</table>\n",
       "<table class=\"simpletable\">\n",
       "<tr>\n",
       "     <td></td>       <th>coef</th>     <th>std err</th>      <th>t</th>      <th>P>|t|</th>  <th>[0.025</th>    <th>0.975]</th>  \n",
       "</tr>\n",
       "<tr>\n",
       "  <th>BB</th>     <td>  -16.7635</td> <td>    2.110</td> <td>   -7.946</td> <td> 0.000</td> <td>  -20.902</td> <td>  -12.625</td>\n",
       "</tr>\n",
       "<tr>\n",
       "  <th>SO</th>     <td>    0.0784</td> <td>    0.009</td> <td>    9.119</td> <td> 0.000</td> <td>    0.062</td> <td>    0.095</td>\n",
       "</tr>\n",
       "<tr>\n",
       "  <th>SB</th>     <td>    0.1342</td> <td>    0.007</td> <td>   20.133</td> <td> 0.000</td> <td>    0.121</td> <td>    0.147</td>\n",
       "</tr>\n",
       "<tr>\n",
       "  <th>WEIGHT</th> <td>   -0.0860</td> <td>    0.015</td> <td>   -5.592</td> <td> 0.000</td> <td>   -0.116</td> <td>   -0.056</td>\n",
       "</tr>\n",
       "<tr>\n",
       "  <th>2B</th>     <td>    0.0796</td> <td>    0.013</td> <td>    6.243</td> <td> 0.000</td> <td>    0.055</td> <td>    0.105</td>\n",
       "</tr>\n",
       "<tr>\n",
       "  <th>3B</th>     <td>    0.2467</td> <td>    0.023</td> <td>   10.508</td> <td> 0.000</td> <td>    0.201</td> <td>    0.293</td>\n",
       "</tr>\n",
       "<tr>\n",
       "  <th>POS_2</th>  <td>   -0.3100</td> <td>    0.074</td> <td>   -4.187</td> <td> 0.000</td> <td>   -0.455</td> <td>   -0.165</td>\n",
       "</tr>\n",
       "<tr>\n",
       "  <th>POS_3</th>  <td>   -2.1094</td> <td>    0.667</td> <td>   -3.164</td> <td> 0.002</td> <td>   -3.417</td> <td>   -0.802</td>\n",
       "</tr>\n",
       "<tr>\n",
       "  <th>POS_4</th>  <td>    0.3337</td> <td>    0.586</td> <td>    0.569</td> <td> 0.569</td> <td>   -0.816</td> <td>    1.484</td>\n",
       "</tr>\n",
       "<tr>\n",
       "  <th>POS_5</th>  <td>   -4.8468</td> <td>    0.487</td> <td>   -9.943</td> <td> 0.000</td> <td>   -5.803</td> <td>   -3.891</td>\n",
       "</tr>\n",
       "<tr>\n",
       "  <th>POS_6</th>  <td>   -2.5460</td> <td>    0.539</td> <td>   -4.727</td> <td> 0.000</td> <td>   -3.603</td> <td>   -1.489</td>\n",
       "</tr>\n",
       "<tr>\n",
       "  <th>POS_7</th>  <td>   -4.9205</td> <td>    0.497</td> <td>   -9.892</td> <td> 0.000</td> <td>   -5.896</td> <td>   -3.945</td>\n",
       "</tr>\n",
       "<tr>\n",
       "  <th>POS_8</th>  <td>    0.3160</td> <td>    0.556</td> <td>    0.569</td> <td> 0.570</td> <td>   -0.774</td> <td>    1.406</td>\n",
       "</tr>\n",
       "<tr>\n",
       "  <th>POS_9</th>  <td>   -2.6701</td> <td>    0.549</td> <td>   -4.867</td> <td> 0.000</td> <td>   -3.746</td> <td>   -1.594</td>\n",
       "</tr>\n",
       "<tr>\n",
       "  <th>POS_D</th>  <td>    0.2865</td> <td>    0.560</td> <td>    0.511</td> <td> 0.609</td> <td>   -0.812</td> <td>    1.385</td>\n",
       "</tr>\n",
       "</table>\n",
       "<table class=\"simpletable\">\n",
       "<tr>\n",
       "  <th>Omnibus:</th>       <td>147.437</td> <th>  Durbin-Watson:     </th> <td>   1.948</td>\n",
       "</tr>\n",
       "<tr>\n",
       "  <th>Prob(Omnibus):</th> <td> 0.000</td>  <th>  Jarque-Bera (JB):  </th> <td> 222.784</td>\n",
       "</tr>\n",
       "<tr>\n",
       "  <th>Skew:</th>          <td> 0.748</td>  <th>  Prob(JB):          </th> <td>4.20e-49</td>\n",
       "</tr>\n",
       "<tr>\n",
       "  <th>Kurtosis:</th>      <td> 4.216</td>  <th>  Cond. No.          </th> <td>2.65e+18</td>\n",
       "</tr>\n",
       "</table>"
      ],
      "text/plain": [
       "<class 'statsmodels.iolib.summary.Summary'>\n",
       "\"\"\"\n",
       "                            OLS Regression Results                            \n",
       "==============================================================================\n",
       "Dep. Variable:                      y   R-squared:                       0.556\n",
       "Model:                            OLS   Adj. R-squared:                  0.552\n",
       "Method:                 Least Squares   F-statistic:                     127.4\n",
       "Date:                Fri, 02 Feb 2018   Prob (F-statistic):          3.56e-239\n",
       "Time:                        05:16:04   Log-Likelihood:                -4736.4\n",
       "No. Observations:                1440   AIC:                             9503.\n",
       "Df Residuals:                    1425   BIC:                             9582.\n",
       "Df Model:                          14                                         \n",
       "Covariance Type:            nonrobust                                         \n",
       "==============================================================================\n",
       "                 coef    std err          t      P>|t|      [0.025      0.975]\n",
       "------------------------------------------------------------------------------\n",
       "BB           -16.7635      2.110     -7.946      0.000     -20.902     -12.625\n",
       "SO             0.0784      0.009      9.119      0.000       0.062       0.095\n",
       "SB             0.1342      0.007     20.133      0.000       0.121       0.147\n",
       "WEIGHT        -0.0860      0.015     -5.592      0.000      -0.116      -0.056\n",
       "2B             0.0796      0.013      6.243      0.000       0.055       0.105\n",
       "3B             0.2467      0.023     10.508      0.000       0.201       0.293\n",
       "POS_2         -0.3100      0.074     -4.187      0.000      -0.455      -0.165\n",
       "POS_3         -2.1094      0.667     -3.164      0.002      -3.417      -0.802\n",
       "POS_4          0.3337      0.586      0.569      0.569      -0.816       1.484\n",
       "POS_5         -4.8468      0.487     -9.943      0.000      -5.803      -3.891\n",
       "POS_6         -2.5460      0.539     -4.727      0.000      -3.603      -1.489\n",
       "POS_7         -4.9205      0.497     -9.892      0.000      -5.896      -3.945\n",
       "POS_8          0.3160      0.556      0.569      0.570      -0.774       1.406\n",
       "POS_9         -2.6701      0.549     -4.867      0.000      -3.746      -1.594\n",
       "POS_D          0.2865      0.560      0.511      0.609      -0.812       1.385\n",
       "==============================================================================\n",
       "Omnibus:                      147.437   Durbin-Watson:                   1.948\n",
       "Prob(Omnibus):                  0.000   Jarque-Bera (JB):              222.784\n",
       "Skew:                           0.748   Prob(JB):                     4.20e-49\n",
       "Kurtosis:                       4.216   Cond. No.                     2.65e+18\n",
       "==============================================================================\n",
       "\n",
       "Warnings:\n",
       "[1] Standard Errors assume that the covariance matrix of the errors is correctly specified.\n",
       "[2] The smallest eigenvalue is 9.02e-30. This might indicate that there are\n",
       "strong multicollinearity problems or that the design matrix is singular.\n",
       "\"\"\""
      ]
     },
     "execution_count": 154,
     "metadata": {},
     "output_type": "execute_result"
    }
   ],
   "source": [
    "model = sm.OLS(y,sm.add_constant(X))\n",
    "model.data.xnames = features_to_test\n",
    "fit = model.fit()\n",
    "fit.summary()"
   ]
  },
  {
   "cell_type": "code",
   "execution_count": 155,
   "metadata": {
    "collapsed": true
   },
   "outputs": [],
   "source": [
    "def find_alpha():\n",
    "    #X2, X2_test, y2, y2_test = train_test_split(X, y, test_size=.2, random_state=10)\n",
    "    params = {\n",
    "        \"alpha\": np.logspace(-4, -.1, 20)\n",
    "    }\n",
    "\n",
    "    grid_est = GridSearchCV(Lasso(), param_grid=params, cv=5)\n",
    "    grid_est.fit(X, y)\n",
    "    df = pd.DataFrame(grid_est.grid_scores_)\n",
    "    df[\"alpha\"] = df.parameters.apply(lambda val: val[\"alpha\"])\n",
    "    plt.plot(np.log(df.alpha), df.mean_validation_score);\n",
    "    return grid_est.grid_scores_"
   ]
  },
  {
   "cell_type": "code",
   "execution_count": 156,
   "metadata": {},
   "outputs": [
    {
     "name": "stderr",
     "output_type": "stream",
     "text": [
      "/Users/Munoz/anaconda3/lib/python3.6/site-packages/sklearn/linear_model/coordinate_descent.py:491: ConvergenceWarning: Objective did not converge. You might want to increase the number of iterations. Fitting data with very small alpha may cause precision problems.\n",
      "  ConvergenceWarning)\n",
      "/Users/Munoz/anaconda3/lib/python3.6/site-packages/sklearn/linear_model/coordinate_descent.py:491: ConvergenceWarning: Objective did not converge. You might want to increase the number of iterations. Fitting data with very small alpha may cause precision problems.\n",
      "  ConvergenceWarning)\n",
      "/Users/Munoz/anaconda3/lib/python3.6/site-packages/sklearn/linear_model/coordinate_descent.py:491: ConvergenceWarning: Objective did not converge. You might want to increase the number of iterations. Fitting data with very small alpha may cause precision problems.\n",
      "  ConvergenceWarning)\n",
      "/Users/Munoz/anaconda3/lib/python3.6/site-packages/sklearn/linear_model/coordinate_descent.py:491: ConvergenceWarning: Objective did not converge. You might want to increase the number of iterations. Fitting data with very small alpha may cause precision problems.\n",
      "  ConvergenceWarning)\n",
      "/Users/Munoz/anaconda3/lib/python3.6/site-packages/sklearn/linear_model/coordinate_descent.py:491: ConvergenceWarning: Objective did not converge. You might want to increase the number of iterations. Fitting data with very small alpha may cause precision problems.\n",
      "  ConvergenceWarning)\n",
      "/Users/Munoz/anaconda3/lib/python3.6/site-packages/sklearn/linear_model/coordinate_descent.py:491: ConvergenceWarning: Objective did not converge. You might want to increase the number of iterations. Fitting data with very small alpha may cause precision problems.\n",
      "  ConvergenceWarning)\n",
      "/Users/Munoz/anaconda3/lib/python3.6/site-packages/sklearn/linear_model/coordinate_descent.py:491: ConvergenceWarning: Objective did not converge. You might want to increase the number of iterations. Fitting data with very small alpha may cause precision problems.\n",
      "  ConvergenceWarning)\n",
      "/Users/Munoz/anaconda3/lib/python3.6/site-packages/sklearn/linear_model/coordinate_descent.py:491: ConvergenceWarning: Objective did not converge. You might want to increase the number of iterations. Fitting data with very small alpha may cause precision problems.\n",
      "  ConvergenceWarning)\n",
      "/Users/Munoz/anaconda3/lib/python3.6/site-packages/sklearn/linear_model/coordinate_descent.py:491: ConvergenceWarning: Objective did not converge. You might want to increase the number of iterations. Fitting data with very small alpha may cause precision problems.\n",
      "  ConvergenceWarning)\n",
      "/Users/Munoz/anaconda3/lib/python3.6/site-packages/sklearn/linear_model/coordinate_descent.py:491: ConvergenceWarning: Objective did not converge. You might want to increase the number of iterations. Fitting data with very small alpha may cause precision problems.\n",
      "  ConvergenceWarning)\n",
      "/Users/Munoz/anaconda3/lib/python3.6/site-packages/sklearn/model_selection/_search.py:761: DeprecationWarning: The grid_scores_ attribute was deprecated in version 0.18 in favor of the more elaborate cv_results_ attribute. The grid_scores_ attribute will not be available from 0.20\n",
      "  DeprecationWarning)\n",
      "/Users/Munoz/anaconda3/lib/python3.6/site-packages/sklearn/model_selection/_search.py:761: DeprecationWarning: The grid_scores_ attribute was deprecated in version 0.18 in favor of the more elaborate cv_results_ attribute. The grid_scores_ attribute will not be available from 0.20\n",
      "  DeprecationWarning)\n"
     ]
    },
    {
     "data": {
      "text/plain": [
       "[mean: 0.53614, std: 0.04070, params: {'alpha': 0.0001},\n",
       " mean: 0.53614, std: 0.04070, params: {'alpha': 0.00016042171611153241},\n",
       " mean: 0.53615, std: 0.04070, params: {'alpha': 0.00025735127000169099},\n",
       " mean: 0.53615, std: 0.04070, params: {'alpha': 0.00041284732377153599},\n",
       " mean: 0.53615, std: 0.04070, params: {'alpha': 0.00066229676171483253},\n",
       " mean: 0.53616, std: 0.04069, params: {'alpha': 0.001062467830894041},\n",
       " mean: 0.53616, std: 0.04069, params: {'alpha': 0.0017044291274531946},\n",
       " mean: 0.53618, std: 0.04069, params: {'alpha': 0.0027342744561652328},\n",
       " mean: 0.53619, std: 0.04068, params: {'alpha': 0.0043863700057795363},\n",
       " mean: 0.53619, std: 0.04067, params: {'alpha': 0.0070366900382730557},\n",
       " mean: 0.53615, std: 0.04067, params: {'alpha': 0.011288378916846895},\n",
       " mean: 0.53602, std: 0.04068, params: {'alpha': 0.018109011179578204},\n",
       " mean: 0.53560, std: 0.04076, params: {'alpha': 0.029050786505108613},\n",
       " mean: 0.53471, std: 0.04095, params: {'alpha': 0.04660377025539271},\n",
       " mean: 0.53286, std: 0.04071, params: {'alpha': 0.074762568016376874},\n",
       " mean: 0.52789, std: 0.04062, params: {'alpha': 0.11993539462092344},\n",
       " mean: 0.51691, std: 0.04200, params: {'alpha': 0.19240241827602392},\n",
       " mean: 0.50967, std: 0.04192, params: {'alpha': 0.30865526123848624},\n",
       " mean: 0.50936, std: 0.04187, params: {'alpha': 0.49515006694731312},\n",
       " mean: 0.50859, std: 0.04181, params: {'alpha': 0.79432823472428149}]"
      ]
     },
     "execution_count": 156,
     "metadata": {},
     "output_type": "execute_result"
    },
    {
     "data": {
      "image/png": "[encoded data removed]",
      "text/plain": [
       "<matplotlib.figure.Figure at 0x1c21c88c50>"
      ]
     },
     "metadata": {},
     "output_type": "display_data"
    }
   ],
   "source": [
    "find_alpha()"
   ]
  },
  {
   "cell_type": "code",
   "execution_count": 157,
   "metadata": {},
   "outputs": [
    {
     "data": {
      "text/plain": [
       "0.94030233982912881"
      ]
     },
     "execution_count": 157,
     "metadata": {},
     "output_type": "execute_result"
    }
   ],
   "source": [
    "from sklearn.ensemble import RandomForestRegressor\n",
    "\n",
    "rf = RandomForestRegressor(n_estimators=1800, max_features=3)\n",
    "rf.fit(X_train, y_train)\n",
    "rf.score(X_train, y_train)"
   ]
  },
  {
   "cell_type": "code",
   "execution_count": 158,
   "metadata": {},
   "outputs": [
    {
     "name": "stderr",
     "output_type": "stream",
     "text": [
      "/Users/Munoz/anaconda3/lib/python3.6/site-packages/sklearn/linear_model/coordinate_descent.py:491: ConvergenceWarning: Objective did not converge. You might want to increase the number of iterations. Fitting data with very small alpha may cause precision problems.\n",
      "  ConvergenceWarning)\n"
     ]
    },
    {
     "data": {
      "text/plain": [
       "0.47399884833369915"
      ]
     },
     "execution_count": 158,
     "metadata": {},
     "output_type": "execute_result"
    }
   ],
   "source": [
    "lr = Lasso(alpha=.0001)\n",
    "\n",
    "scaler = StandardScaler()\n",
    "X_scaled = scaler.fit_transform(X)\n",
    "X_test_scaled = scaler.transform(X_test)\n",
    "\n",
    "lr.fit(X_scaled, y)\n",
    "\n",
    "test_pred_y = lr.predict(X_test_scaled)\n",
    "\n",
    "lr.score(X_test_scaled, y_test)"
   ]
  },
  {
   "cell_type": "code",
   "execution_count": 159,
   "metadata": {},
   "outputs": [
    {
     "name": "stdout",
     "output_type": "stream",
     "text": [
      "BB: 1.720\n",
      "SO: 3.946\n",
      "SB: -1.220\n",
      "WEIGHT: 1.392\n",
      "2B: 1.925\n",
      "3B: -0.857\n",
      "POS_2: -0.121\n",
      "POS_3: 0.672\n",
      "POS_4: -1.041\n",
      "POS_5: -0.290\n",
      "POS_6: -1.030\n",
      "POS_7: 0.638\n",
      "POS_8: -0.344\n",
      "POS_9: 0.657\n",
      "POS_D: 0.231\n"
     ]
    }
   ],
   "source": [
    "the_list = list(zip(features_to_test, lr.coef_))\n",
    "for item in the_list:\n",
    "    print ('{}: {:.3f}'.format(item[0], item[1]))"
   ]
  },
  {
   "cell_type": "code",
   "execution_count": null,
   "metadata": {
    "collapsed": true
   },
   "outputs": [],
   "source": []
  }
 ],
 "metadata": {
  "kernelspec": {
   "display_name": "Python 3",
   "language": "python",
   "name": "python3"
  },
  "language_info": {
   "codemirror_mode": {
    "name": "ipython",
    "version": 3
   },
   "file_extension": ".py",
   "mimetype": "text/x-python",
   "name": "python",
   "nbconvert_exporter": "python",
   "pygments_lexer": "ipython3",
   "version": "3.6.3"
  }
 },
 "nbformat": 4,
 "nbformat_minor": 2
}
