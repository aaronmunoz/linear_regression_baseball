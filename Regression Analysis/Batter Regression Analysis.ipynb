{
 "cells": [
  {
   "cell_type": "code",
   "execution_count": 1,
   "metadata": {},
   "outputs": [
    {
     "name": "stderr",
     "output_type": "stream",
     "text": [
      "/Users/Munoz/anaconda3/lib/python3.6/site-packages/statsmodels/compat/pandas.py:56: FutureWarning: The pandas.core.datetools module is deprecated and will be removed in a future version. Please use the pandas.tseries module instead.\n  from pandas.core import datetools\n"
     ]
    }
   ],
   "source": [
    "import pandas as pd\n",
    "import numpy as np\n",
    "import matplotlib.pyplot as plt\n",
    "import seaborn as sns\n",
    "import statsmodels.api as sm\n",
    "import statsmodels.formula.api as smf\n",
    "from sklearn.model_selection import train_test_split, KFold, GridSearchCV\n",
    "from sklearn.preprocessing import StandardScaler, PolynomialFeatures\n",
    "from sklearn.linear_model import LinearRegression, Lasso, LassoCV, Ridge\n",
    "import scipy.stats as stats\n",
    "\n",
    "sns.set()\n",
    "%matplotlib inline"
   ]
  },
  {
   "cell_type": "code",
   "execution_count": 3506,
   "metadata": {
    "collapsed": true
   },
   "outputs": [],
   "source": [
    "batters_df = pd.read_csv('../DEA Notebooks/cleaned_batting_years_1985_to_2017.csv')"
   ]
  },
  {
   "cell_type": "code",
   "execution_count": 3507,
   "metadata": {
    "collapsed": true
   },
   "outputs": [],
   "source": [
    "del batters_df['Unnamed: 0']"
   ]
  },
  {
   "cell_type": "code",
   "execution_count": 3508,
   "metadata": {},
   "outputs": [
    {
     "data": {
      "text/plain": [
       "Index(['ID', 'NAME', 'HEIGHT', 'WEIGHT', 'YEAR', 'AGE', 'TM', 'LG', 'G', 'PA',\n",
       "       'AB', 'R', 'H', '2B', '3B', 'HR', 'RBI', 'SB', 'CS', 'BB', 'SO', 'BA',\n",
       "       'OBP', 'SLG', 'OPS', 'OPS+', 'TB', 'GDP', 'HBP', 'SH', 'SF', 'IBB',\n",
       "       'AWARDS', 'SALARY', 'BATS_Left', 'BATS_Right', 'LG_SALARY_YEAR',\n",
       "       'LG_SALARY_MEAN', 'POS_1', 'POS_2', 'POS_3', 'POS_4', 'POS_5', 'POS_6',\n",
       "       'POS_7', 'POS_8', 'POS_9', 'POS_D', 'LG_MEAN_HR'],\n",
       "      dtype='object')"
      ]
     },
     "execution_count": 3508,
     "metadata": {},
     "output_type": "execute_result"
    }
   ],
   "source": [
    "batters_df.columns"
   ]
  },
  {
   "cell_type": "code",
   "execution_count": null,
   "metadata": {
    "collapsed": true
   },
   "outputs": [],
   "source": []
  },
  {
   "cell_type": "code",
   "execution_count": 3509,
   "metadata": {},
   "outputs": [],
   "source": [
    "\n",
    "\n",
    "f1 = ['AGE', 'LG_SALARY_MEAN', 'BB', 'H', 'R', '2B', 'HR']  #.65 and \n",
    "f2 = ['AGE', 'OBP', 'SLG', 'HR', 'LG_SALARY_MEAN'] #.63, but coefficients make more sense\n",
    "position_columns = ['POS_2', 'POS_3', 'POS_4', 'POS_5', 'POS_6',\n",
    "       'POS_7', 'POS_8', 'POS_9', 'POS_D']\n",
    "\n",
    "hr_f1 = ['WEIGHT', 'BB', 'H', 'R', '2B', '3B', 'RBI', 'BA', 'SO', 'SB']\n",
    "hr_f2 = ['AGE', 'WEIGHT', 'OPS', 'R', 'OBP', 'SO']\n",
    "\n",
    "hr_f3_no_hr_hints = ['BB', 'SO', 'SB', 'WEIGHT', '2B', '3B']"
   ]
  },
  {
   "cell_type": "code",
   "execution_count": 3510,
   "metadata": {},
   "outputs": [
    {
     "data": {
      "text/plain": [
       "(6337, 49)"
      ]
     },
     "execution_count": 3510,
     "metadata": {},
     "output_type": "execute_result"
    }
   ],
   "source": [
    "subset_to_test_with = batters_df[(batters_df.PA >= 400) & (batters_df.YEAR != 1994) & (batters_df.BB < 170)]\n",
    "\n",
    "#y_value_to_test = subset_to_test_with['HR']\n",
    "y_value_to_test = np.log(subset_to_test_with['SALARY'])\n",
    "\n",
    "subset_to_test_with.shape"
   ]
  },
  {
   "cell_type": "code",
   "execution_count": 3511,
   "metadata": {},
   "outputs": [],
   "source": [
    "\n",
    "\n",
    "y = np.asarray(y_value_to_test)\n",
    "features_to_test = f1\n",
    "X = np.asarray(subset_to_test_with[features_to_test])\n",
    "\n",
    "X, X_test, y, y_test = train_test_split(X, y, test_size=.2, random_state=10)\n"
   ]
  },
  {
   "cell_type": "code",
   "execution_count": 3512,
   "metadata": {},
   "outputs": [],
   "source": [
    "kf = KFold(n_splits=5, shuffle=True, random_state = 0)\n",
    "lr = Lasso(alpha=0.0001)#LinearRegression()\n",
    "\n",
    "train_scores = []\n",
    "train_errors = []\n",
    "coefs = []\n",
    "for train_ind, val_ind in kf.split(X,y):\n",
    "        X_train, y_train = X[train_ind], y[train_ind]\n",
    "        X_val, y_val = X[val_ind], y[val_ind] \n",
    "        \n",
    "        #print(np.argwhere(np.isnan(X_train)))\n",
    "        scaler = StandardScaler()\n",
    "        X_train_scaled = scaler.fit_transform(X_train)\n",
    "        X_val_scaled = scaler.transform(X_val)\n",
    "        lr.fit(X_train_scaled, y_train)\n",
    "        \n",
    "        valid_set_pred = lr.predict(X_val_scaled)\n",
    "        train_scores.append(lr.score(X_val_scaled, y_val))\n",
    "        train_errors.append(np.sqrt(np.mean((valid_set_pred - y_val)**2)))\n",
    "        coefs.append(list(zip(features_to_test, lr.coef_)))\n",
    "        "
   ]
  },
  {
   "cell_type": "code",
   "execution_count": 3513,
   "metadata": {},
   "outputs": [
    {
     "data": {
      "text/plain": [
       "0.59344377923525882"
      ]
     },
     "execution_count": 3513,
     "metadata": {},
     "output_type": "execute_result"
    }
   ],
   "source": [
    "np.mean(train_scores)"
   ]
  },
  {
   "cell_type": "code",
   "execution_count": 3514,
   "metadata": {},
   "outputs": [
    {
     "data": {
      "text/plain": [
       "[[('AGE', 0.75141710131311112),\n",
       "  ('LG_SALARY_MEAN', 0.63232503396275841),\n",
       "  ('BB', 0.13260144145537184),\n",
       "  ('H', 0.26247612105462148),\n",
       "  ('R', -0.025142473759162121),\n",
       "  ('2B', -0.055562058702292645),\n",
       "  ('HR', 0.22234938814077565)],\n",
       " [('AGE', 0.76404182181910618),\n",
       "  ('LG_SALARY_MEAN', 0.61807826962237056),\n",
       "  ('BB', 0.12590640347414153),\n",
       "  ('H', 0.26535623248474333),\n",
       "  ('R', -0.025839746668083068),\n",
       "  ('2B', -0.046749416505122619),\n",
       "  ('HR', 0.20858953319631016)],\n",
       " [('AGE', 0.75843513754596503),\n",
       "  ('LG_SALARY_MEAN', 0.63349873299762105),\n",
       "  ('BB', 0.13538548739524092),\n",
       "  ('H', 0.22758709386884274),\n",
       "  ('R', 0.00047726914795231468),\n",
       "  ('2B', -0.04665609265062691),\n",
       "  ('HR', 0.21169516355030704)],\n",
       " [('AGE', 0.7674873903784305),\n",
       "  ('LG_SALARY_MEAN', 0.61330137992924449),\n",
       "  ('BB', 0.12424555425792237),\n",
       "  ('H', 0.2420694027577763),\n",
       "  ('R', -0.0084350057702085417),\n",
       "  ('2B', -0.050729771735562479),\n",
       "  ('HR', 0.2102085287677305)],\n",
       " [('AGE', 0.76616879841575192),\n",
       "  ('LG_SALARY_MEAN', 0.62447210519286955),\n",
       "  ('BB', 0.12143292709191031),\n",
       "  ('H', 0.25182107871874082),\n",
       "  ('R', -0.013465076894956058),\n",
       "  ('2B', -0.060380064992211407),\n",
       "  ('HR', 0.22308540841960767)]]"
      ]
     },
     "execution_count": 3514,
     "metadata": {},
     "output_type": "execute_result"
    }
   ],
   "source": [
    "coefs"
   ]
  },
  {
   "cell_type": "code",
   "execution_count": 3515,
   "metadata": {},
   "outputs": [
    {
     "name": "stderr",
     "output_type": "stream",
     "text": [
      "/Users/Munoz/anaconda3/lib/python3.6/site-packages/sklearn/linear_model/coordinate_descent.py:491: ConvergenceWarning: Objective did not converge. You might want to increase the number of iterations. Fitting data with very small alpha may cause precision problems.\n",
      "  ConvergenceWarning)\n"
     ]
    }
   ],
   "source": [
    "lr = Lasso(alpha=0.00001)#LinearRegression()\n",
    "train_scores = []\n",
    "train_errors = []\n",
    "coefs = []\n",
    "for train_ind, val_ind in kf.split(X,y):\n",
    "        X_train, y_train = X[train_ind], y[train_ind]\n",
    "        X_val, y_val = X[val_ind], y[val_ind] \n",
    "        \n",
    "        poly = PolynomialFeatures(degree=2) \n",
    "\n",
    "        X_train_poly = poly.fit_transform(X_train)\n",
    "        X_val_poly = poly.transform(X_val)\n",
    "        \n",
    "        lr.fit(X_train_poly, y_train)\n",
    "        \n",
    "        valid_set_pred = lr.predict(X_val_poly)\n",
    "        train_scores.append(lr.score(X_val_poly, y_val))\n",
    "        train_errors.append(np.sqrt(np.mean((valid_set_pred - y_val)**2)))\n",
    "        coefs.append(list(zip(features_to_test, lr.coef_)))\n",
    "        \n",
    "        "
   ]
  },
  {
   "cell_type": "code",
   "execution_count": 3516,
   "metadata": {
    "scrolled": true
   },
   "outputs": [
    {
     "data": {
      "text/plain": [
       "0.64649307219992092"
      ]
     },
     "execution_count": 3516,
     "metadata": {},
     "output_type": "execute_result"
    }
   ],
   "source": [
    "np.mean(train_scores)"
   ]
  },
  {
   "cell_type": "code",
   "execution_count": 3517,
   "metadata": {},
   "outputs": [
    {
     "data": {
      "text/plain": [
       "[[('AGE', 0.0),\n",
       "  ('LG_SALARY_MEAN', 0.71631289379218821),\n",
       "  ('BB', -0.52066329610623929),\n",
       "  ('H', 0.0068293835654638819),\n",
       "  ('R', 0.0050541729010236472),\n",
       "  ('2B', 0.0063673733122109862),\n",
       "  ('HR', -0.055810424758542615)],\n",
       " [('AGE', 0.0),\n",
       "  ('LG_SALARY_MEAN', 0.64426567183525918),\n",
       "  ('BB', -0.64823578039390561),\n",
       "  ('H', 0.0039694106345976405),\n",
       "  ('R', 0.0058383410363322813),\n",
       "  ('2B', 0.0057148183470789923),\n",
       "  ('HR', -0.059391340091488144)],\n",
       " [('AGE', 0.0),\n",
       "  ('LG_SALARY_MEAN', 0.63520676510506258),\n",
       "  ('BB', -0.53986720034318558),\n",
       "  ('H', 0.010181624024842774),\n",
       "  ('R', -0.00038950301174235034),\n",
       "  ('2B', 0.003236194656120228),\n",
       "  ('HR', -0.047684504459140589)],\n",
       " [('AGE', 0.0),\n",
       "  ('LG_SALARY_MEAN', 0.64854169279886276),\n",
       "  ('BB', -0.61793790967504914),\n",
       "  ('H', 0.014647717150277793),\n",
       "  ('R', 0.0045122375414620242),\n",
       "  ('2B', -0.001047642753100469),\n",
       "  ('HR', -0.058932586337964679)],\n",
       " [('AGE', 0.0),\n",
       "  ('LG_SALARY_MEAN', 0.61592510265936962),\n",
       "  ('BB', -0.73261011509953933),\n",
       "  ('H', -0.0027900739533542745),\n",
       "  ('R', 0.0037988858144267098),\n",
       "  ('2B', 0.0061844942401638476),\n",
       "  ('HR', -0.05610141381184456)]]"
      ]
     },
     "execution_count": 3517,
     "metadata": {},
     "output_type": "execute_result"
    }
   ],
   "source": [
    "coefs"
   ]
  },
  {
   "cell_type": "code",
   "execution_count": 3518,
   "metadata": {
    "collapsed": true,
    "scrolled": true
   },
   "outputs": [],
   "source": [
    "def diagnostic_plot(x, y):\n",
    "    plt.figure(figsize=(20,5))\n",
    "    s = len(y)\n",
    "    rgr = LinearRegression()\n",
    "    rgr.fit(x,y)\n",
    "    pred = rgr.predict(x)\n",
    "    \n",
    "    plt.subplot(1, 3, 2)\n",
    "    res = y - pred\n",
    "    plt.scatter(pred, res)\n",
    "    plt.title(\"Residual plot\")\n",
    "    plt.xlabel(\"prediction\")\n",
    "    plt.ylabel(\"residuals\")\n",
    "    \n",
    "    plt.subplot(1, 3, 3)\n",
    "    #Generates a probability plot of sample data against the quantiles of a \n",
    "    # specified theoretical distribution \n",
    "    stats.probplot(res, dist=\"norm\", plot=plt)\n",
    "    plt.title(\"Normal Q-Q plot\")\n",
    "    "
   ]
  },
  {
   "cell_type": "code",
   "execution_count": 3519,
   "metadata": {},
   "outputs": [
    {
     "data": {
      "image/png": "[encoded data removed]",
      "text/plain": [
       "<matplotlib.figure.Figure at 0x1c31c23b38>"
      ]
     },
     "metadata": {},
     "output_type": "display_data"
    }
   ],
   "source": [
    "poly = PolynomialFeatures(degree=2) \n",
    "\n",
    "X_train_poly = poly.fit_transform(X)\n",
    "#lr = LinearRegression()\n",
    "#lr.fit(X_train_poly, y)\n",
    "#y_pres = lr.predict()\n",
    "diagnostic_plot(X_train_poly, y)"
   ]
  },
  {
   "cell_type": "code",
   "execution_count": 3520,
   "metadata": {},
   "outputs": [
    {
     "data": {
      "text/html": [
       "<table class=\"simpletable\">\n",
       "<caption>OLS Regression Results</caption>\n",
       "<tr>\n",
       "  <th>Dep. Variable:</th>            <td>y</td>        <th>  R-squared:         </th> <td>   0.595</td> \n",
       "</tr>\n",
       "<tr>\n",
       "  <th>Model:</th>                   <td>OLS</td>       <th>  Adj. R-squared:    </th> <td>   0.595</td> \n",
       "</tr>\n",
       "<tr>\n",
       "  <th>Method:</th>             <td>Least Squares</td>  <th>  F-statistic:       </th> <td>   1064.</td> \n",
       "</tr>\n",
       "<tr>\n",
       "  <th>Date:</th>             <td>Thu, 01 Feb 2018</td> <th>  Prob (F-statistic):</th>  <td>  0.00</td>  \n",
       "</tr>\n",
       "<tr>\n",
       "  <th>Time:</th>                 <td>21:30:24</td>     <th>  Log-Likelihood:    </th> <td> -6660.2</td> \n",
       "</tr>\n",
       "<tr>\n",
       "  <th>No. Observations:</th>      <td>  5069</td>      <th>  AIC:               </th> <td>1.334e+04</td>\n",
       "</tr>\n",
       "<tr>\n",
       "  <th>Df Residuals:</th>          <td>  5061</td>      <th>  BIC:               </th> <td>1.339e+04</td>\n",
       "</tr>\n",
       "<tr>\n",
       "  <th>Df Model:</th>              <td>     7</td>      <th>                     </th>     <td> </td>    \n",
       "</tr>\n",
       "<tr>\n",
       "  <th>Covariance Type:</th>      <td>nonrobust</td>    <th>                     </th>     <td> </td>    \n",
       "</tr>\n",
       "</table>\n",
       "<table class=\"simpletable\">\n",
       "<tr>\n",
       "         <td></td>           <th>coef</th>     <th>std err</th>      <th>t</th>      <th>P>|t|</th>  <th>[0.025</th>    <th>0.975]</th>  \n",
       "</tr>\n",
       "<tr>\n",
       "  <th>AGE</th>            <td>   -4.4236</td> <td>    0.263</td> <td>  -16.836</td> <td> 0.000</td> <td>   -4.939</td> <td>   -3.909</td>\n",
       "</tr>\n",
       "<tr>\n",
       "  <th>LG_SALARY_MEAN</th> <td>    0.1944</td> <td>    0.003</td> <td>   58.854</td> <td> 0.000</td> <td>    0.188</td> <td>    0.201</td>\n",
       "</tr>\n",
       "<tr>\n",
       "  <th>BB</th>             <td>    0.7953</td> <td>    0.017</td> <td>   47.811</td> <td> 0.000</td> <td>    0.763</td> <td>    0.828</td>\n",
       "</tr>\n",
       "<tr>\n",
       "  <th>H</th>              <td>    0.0058</td> <td>    0.001</td> <td>    7.513</td> <td> 0.000</td> <td>    0.004</td> <td>    0.007</td>\n",
       "</tr>\n",
       "<tr>\n",
       "  <th>R</th>              <td>    0.0083</td> <td>    0.001</td> <td>    9.962</td> <td> 0.000</td> <td>    0.007</td> <td>    0.010</td>\n",
       "</tr>\n",
       "<tr>\n",
       "  <th>2B</th>             <td>   -0.0007</td> <td>    0.001</td> <td>   -0.562</td> <td> 0.574</td> <td>   -0.003</td> <td>    0.002</td>\n",
       "</tr>\n",
       "<tr>\n",
       "  <th>HR</th>             <td>   -0.0062</td> <td>    0.002</td> <td>   -2.855</td> <td> 0.004</td> <td>   -0.010</td> <td>   -0.002</td>\n",
       "</tr>\n",
       "</table>\n",
       "<table class=\"simpletable\">\n",
       "<tr>\n",
       "  <th>Omnibus:</th>       <td>76.216</td> <th>  Durbin-Watson:     </th> <td>   1.980</td>\n",
       "</tr>\n",
       "<tr>\n",
       "  <th>Prob(Omnibus):</th> <td> 0.000</td> <th>  Jarque-Bera (JB):  </th> <td>  67.987</td>\n",
       "</tr>\n",
       "<tr>\n",
       "  <th>Skew:</th>          <td>-0.233</td> <th>  Prob(JB):          </th> <td>1.73e-15</td>\n",
       "</tr>\n",
       "<tr>\n",
       "  <th>Kurtosis:</th>      <td> 2.676</td> <th>  Cond. No.          </th> <td>3.64e+03</td>\n",
       "</tr>\n",
       "</table>"
      ],
      "text/plain": [
       "<class 'statsmodels.iolib.summary.Summary'>\n",
       "\"\"\"\n",
       "                            OLS Regression Results                            \n",
       "==============================================================================\n",
       "Dep. Variable:                      y   R-squared:                       0.595\n",
       "Model:                            OLS   Adj. R-squared:                  0.595\n",
       "Method:                 Least Squares   F-statistic:                     1064.\n",
       "Date:                Thu, 01 Feb 2018   Prob (F-statistic):               0.00\n",
       "Time:                        21:30:24   Log-Likelihood:                -6660.2\n",
       "No. Observations:                5069   AIC:                         1.334e+04\n",
       "Df Residuals:                    5061   BIC:                         1.339e+04\n",
       "Df Model:                           7                                         \n",
       "Covariance Type:            nonrobust                                         \n",
       "==================================================================================\n",
       "                     coef    std err          t      P>|t|      [0.025      0.975]\n",
       "----------------------------------------------------------------------------------\n",
       "AGE               -4.4236      0.263    -16.836      0.000      -4.939      -3.909\n",
       "LG_SALARY_MEAN     0.1944      0.003     58.854      0.000       0.188       0.201\n",
       "BB                 0.7953      0.017     47.811      0.000       0.763       0.828\n",
       "H                  0.0058      0.001      7.513      0.000       0.004       0.007\n",
       "R                  0.0083      0.001      9.962      0.000       0.007       0.010\n",
       "2B                -0.0007      0.001     -0.562      0.574      -0.003       0.002\n",
       "HR                -0.0062      0.002     -2.855      0.004      -0.010      -0.002\n",
       "==============================================================================\n",
       "Omnibus:                       76.216   Durbin-Watson:                   1.980\n",
       "Prob(Omnibus):                  0.000   Jarque-Bera (JB):               67.987\n",
       "Skew:                          -0.233   Prob(JB):                     1.73e-15\n",
       "Kurtosis:                       2.676   Cond. No.                     3.64e+03\n",
       "==============================================================================\n",
       "\n",
       "Warnings:\n",
       "[1] Standard Errors assume that the covariance matrix of the errors is correctly specified.\n",
       "[2] The condition number is large, 3.64e+03. This might indicate that there are\n",
       "strong multicollinearity or other numerical problems.\n",
       "\"\"\""
      ]
     },
     "execution_count": 3520,
     "metadata": {},
     "output_type": "execute_result"
    }
   ],
   "source": [
    "model = sm.OLS(y,sm.add_constant(X))\n",
    "model.data.xnames = features_to_test\n",
    "fit = model.fit()\n",
    "fit.summary()"
   ]
  },
  {
   "cell_type": "code",
   "execution_count": 3521,
   "metadata": {},
   "outputs": [],
   "source": [
    "def find_alpha():\n",
    "    #X2, X2_test, y2, y2_test = train_test_split(X, y, test_size=.2, random_state=10)\n",
    "    params = {\n",
    "        \"alpha\": np.logspace(-4, -.1, 20)\n",
    "    }\n",
    "\n",
    "    grid_est = GridSearchCV(Lasso(), param_grid=params, cv=5)\n",
    "    grid_est.fit(X, y)\n",
    "    df = pd.DataFrame(grid_est.grid_scores_)\n",
    "    df[\"alpha\"] = df.parameters.apply(lambda val: val[\"alpha\"])\n",
    "    plt.plot(np.log(df.alpha), df.mean_validation_score);\n",
    "    return grid_est.grid_scores_"
   ]
  },
  {
   "cell_type": "code",
   "execution_count": 3522,
   "metadata": {},
   "outputs": [
    {
     "name": "stderr",
     "output_type": "stream",
     "text": [
      "/Users/Munoz/anaconda3/lib/python3.6/site-packages/sklearn/model_selection/_search.py:761: DeprecationWarning: The grid_scores_ attribute was deprecated in version 0.18 in favor of the more elaborate cv_results_ attribute. The grid_scores_ attribute will not be available from 0.20\n",
      "  DeprecationWarning)\n",
      "/Users/Munoz/anaconda3/lib/python3.6/site-packages/sklearn/model_selection/_search.py:761: DeprecationWarning: The grid_scores_ attribute was deprecated in version 0.18 in favor of the more elaborate cv_results_ attribute. The grid_scores_ attribute will not be available from 0.20\n",
      "  DeprecationWarning)\n"
     ]
    },
    {
     "data": {
      "text/plain": [
       "[mean: 0.59359, std: 0.02408, params: {'alpha': 0.0001},\n",
       " mean: 0.59359, std: 0.02408, params: {'alpha': 0.00016042171611153241},\n",
       " mean: 0.59360, std: 0.02408, params: {'alpha': 0.00025735127000169099},\n",
       " mean: 0.59360, std: 0.02408, params: {'alpha': 0.00041284732377153599},\n",
       " mean: 0.59360, std: 0.02407, params: {'alpha': 0.00066229676171483253},\n",
       " mean: 0.59360, std: 0.02407, params: {'alpha': 0.001062467830894041},\n",
       " mean: 0.59359, std: 0.02406, params: {'alpha': 0.0017044291274531946},\n",
       " mean: 0.59359, std: 0.02405, params: {'alpha': 0.0027342744561652328},\n",
       " mean: 0.59358, std: 0.02404, params: {'alpha': 0.0043863700057795363},\n",
       " mean: 0.59356, std: 0.02401, params: {'alpha': 0.0070366900382730557},\n",
       " mean: 0.59349, std: 0.02397, params: {'alpha': 0.011288378916846895},\n",
       " mean: 0.59331, std: 0.02390, params: {'alpha': 0.018109011179578204},\n",
       " mean: 0.59283, std: 0.02378, params: {'alpha': 0.029050786505108613},\n",
       " mean: 0.59159, std: 0.02361, params: {'alpha': 0.04660377025539271},\n",
       " mean: 0.58845, std: 0.02337, params: {'alpha': 0.074762568016376874},\n",
       " mean: 0.58102, std: 0.02315, params: {'alpha': 0.11993539462092344},\n",
       " mean: 0.56188, std: 0.02293, params: {'alpha': 0.19240241827602392},\n",
       " mean: 0.51233, std: 0.02279, params: {'alpha': 0.30865526123848624},\n",
       " mean: 0.39914, std: 0.02385, params: {'alpha': 0.49515006694731312},\n",
       " mean: 0.38370, std: 0.02077, params: {'alpha': 0.79432823472428149}]"
      ]
     },
     "execution_count": 3522,
     "metadata": {},
     "output_type": "execute_result"
    },
    {
     "data": {
      "image/png": "[encoded data removed]",
      "text/plain": [
       "<matplotlib.figure.Figure at 0x1c48dac588>"
      ]
     },
     "metadata": {},
     "output_type": "display_data"
    }
   ],
   "source": [
    "find_alpha()"
   ]
  },
  {
   "cell_type": "code",
   "execution_count": 3523,
   "metadata": {},
   "outputs": [
    {
     "data": {
      "text/plain": [
       "0.66407452444491089"
      ]
     },
     "execution_count": 3523,
     "metadata": {},
     "output_type": "execute_result"
    }
   ],
   "source": [
    "lr = LinearRegression()\n",
    "    \n",
    "poly = PolynomialFeatures(degree=2) \n",
    "\n",
    "X_poly = poly.fit_transform(X)\n",
    "X_test_poly = poly.transform(X_test)\n",
    "\n",
    "lr.fit(X_poly, y)\n",
    "\n",
    "test_pred_y = lr.predict(X_test_poly)\n",
    "\n",
    "lr.score(X_test_poly, y_test)"
   ]
  },
  {
   "cell_type": "code",
   "execution_count": 3527,
   "metadata": {},
   "outputs": [
    {
     "name": "stdout",
     "output_type": "stream",
     "text": [
      "AGE: 0.000\n",
      "LG_SALARY_MEAN: 0.751\n",
      "BB: -2.020\n",
      "H: 0.002\n",
      "R: 0.001\n",
      "2B: 0.029\n",
      "HR: -0.073\n"
     ]
    }
   ],
   "source": [
    "the_list = list(zip(features_to_test, lr.coef_))\n",
    "for item in the_list:\n",
    "    print ('{}: {:.3f}'.format(item[0], item[1]))"
   ]
  },
  {
   "cell_type": "code",
   "execution_count": null,
   "metadata": {
    "collapsed": true
   },
   "outputs": [],
   "source": []
  }
 ],
 "metadata": {
  "kernelspec": {
   "display_name": "Python 3",
   "language": "python",
   "name": "python3"
  },
  "language_info": {
   "codemirror_mode": {
    "name": "ipython",
    "version": 3
   },
   "file_extension": ".py",
   "mimetype": "text/x-python",
   "name": "python",
   "nbconvert_exporter": "python",
   "pygments_lexer": "ipython3",
   "version": "3.6.3"
  }
 },
 "nbformat": 4,
 "nbformat_minor": 2
}
